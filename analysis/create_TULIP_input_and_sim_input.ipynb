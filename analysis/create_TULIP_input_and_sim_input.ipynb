{
 "cells": [
  {
   "cell_type": "markdown",
   "metadata": {},
   "source": [
    "We need to make a file with all pairwise combinations to get our predictions. We also need to be able to turn this into a matrix later."
   ]
  },
  {
   "cell_type": "code",
   "execution_count": 6,
   "metadata": {},
   "outputs": [],
   "source": [
    "def read_phenotypes(filename):\n",
    "    filepath = \"\" + filename\n",
    "    with open(filepath, \"r\") as file:\n",
    "        phenotypes = [line.rstrip(\"\\n\") for line in file]\n",
    "    return phenotypes\n",
    "\n",
    "\n",
    "TCRs = read_phenotypes(\"real_sample_TCRs.txt\")\n",
    "peptides = read_phenotypes(\"real_sample_peptides.txt\")"
   ]
  },
  {
   "cell_type": "code",
   "execution_count": 19,
   "metadata": {},
   "outputs": [],
   "source": [
    "import numpy as np\n",
    "\n",
    "pairs = [[(TCR, pep) for TCR in TCRs] for pep in peptides]"
   ]
  },
  {
   "cell_type": "code",
   "execution_count": 24,
   "metadata": {},
   "outputs": [],
   "source": [
    "missing = \"<MIS>\"\n",
    "\n",
    "def get_row_dict_from_pair(pair):\n",
    "    row_dict = {}\n",
    "    row_dict[\"CDR3b\"] = pair[0]\n",
    "    row_dict[\"CDR3a\"] = missing\n",
    "    row_dict[\"peptide\"] = pair[1]\n",
    "    row_dict[\"MHC\"] = missing\n",
    "    row_dict[\"binder\"] = 1\n",
    "\n",
    "    return row_dict\n"
   ]
  },
  {
   "cell_type": "code",
   "execution_count": 29,
   "metadata": {},
   "outputs": [],
   "source": [
    "import pandas as pd\n",
    "\n",
    "row_list = []\n",
    "for blom in pairs:\n",
    "    for pair in blom:\n",
    "        row_dict = get_row_dict_from_pair(pair)\n",
    "        row_list.append(row_dict)\n",
    "\n",
    "input = pd.DataFrame(row_list)\n",
    "# input = pd.DataFrame(columns=[\"CDR3b\",\"CDR3a\",\"peptide\",\"MHC\",\"binder\"])\n",
    "input.to_csv(\"../data/input_5.csv\")\n"
   ]
  },
  {
   "cell_type": "markdown",
   "metadata": {},
   "source": [
    "Now that the predictor has been run, let us create our simulation input: the binding probability matrix"
   ]
  },
  {
   "cell_type": "code",
   "execution_count": 2,
   "metadata": {},
   "outputs": [
    {
     "data": {
      "text/plain": [
       "(array([248.,   2.,   0.,   0.,   0.,   0.,   0.,   1.,   0.,   1.]),\n",
       " array([2.46470378e-25, 1.62433792e-15, 3.24867584e-15, 4.87301376e-15,\n",
       "        6.49735168e-15, 8.12168960e-15, 9.74602752e-15, 1.13703654e-14,\n",
       "        1.29947034e-14, 1.46190413e-14, 1.62433792e-14]),\n",
       " <BarContainer object of 10 artists>)"
      ]
     },
     "execution_count": 2,
     "metadata": {},
     "output_type": "execute_result"
    },
    {
     "data": {
      "image/png": "[encoded data removed]",
      "text/plain": [
       "<Figure size 432x288 with 1 Axes>"
      ]
     },
     "metadata": {
      "needs_background": "light"
     },
     "output_type": "display_data"
    }
   ],
   "source": [
    "import pandas as pd\n",
    "import numpy as np\n",
    "from plotting import get_unique_output\n",
    "\n",
    "output = pd.read_csv(\"../output/\" + get_unique_output(\"5\"))\n",
    "tulip_unscaled_probs = np.exp(output[\"score\"])\n",
    "\n",
    "import matplotlib.pyplot as plt\n",
    "\n",
    "from binding_affinity_derivation import fit_params_and_get_pbind_from_tulip_probs\n",
    "\n",
    "kplus = 21.4\n",
    "kminus = 0.015\n",
    "\n",
    "# tulip_unscaled_probs = 10000000000000 * tulip_unscaled_probs\n",
    "# tulip_unscaled_probs = [prob for prob in tulip_unscaled_probs if prob > 0.0001]\n",
    "\n",
    "plt.hist(tulip_unscaled_probs)"
   ]
  },
  {
   "cell_type": "code",
   "execution_count": 15,
   "metadata": {},
   "outputs": [
    {
     "data": {
      "text/plain": [
       "(array([248.,   2.,   0.,   0.,   0.,   0.,   0.,   1.,   0.,   1.]),\n",
       " array([2.46470378e-25, 1.62433792e-15, 3.24867584e-15, 4.87301376e-15,\n",
       "        6.49735168e-15, 8.12168960e-15, 9.74602752e-15, 1.13703654e-14,\n",
       "        1.29947034e-14, 1.46190413e-14, 1.62433792e-14]),\n",
       " <BarContainer object of 10 artists>)"
      ]
     },
     "execution_count": 15,
     "metadata": {},
     "output_type": "execute_result"
    },
    {
     "data": {
      "image/png": "[encoded data removed]",
      "text/plain": [
       "<Figure size 432x288 with 1 Axes>"
      ]
     },
     "metadata": {
      "needs_background": "light"
     },
     "output_type": "display_data"
    }
   ],
   "source": [
    "plt.hist(tulip_unscaled_probs, log=True)"
   ]
  },
  {
   "cell_type": "code",
   "execution_count": 17,
   "metadata": {},
   "outputs": [
    {
     "data": {
      "text/plain": [
       "(array([ 6., 37., 43., 20., 22., 26., 41., 36., 16.,  5.]),\n",
       " array([-56.66255569, -54.17140923, -51.68026276, -49.18911629,\n",
       "        -46.69796982, -44.20682335, -41.71567688, -39.22453041,\n",
       "        -36.73338394, -34.24223747, -31.751091  ]),\n",
       " <BarContainer object of 10 artists>)"
      ]
     },
     "execution_count": 17,
     "metadata": {},
     "output_type": "execute_result"
    },
    {
     "data": {
      "image/png": "[encoded data removed]",
      "text/plain": [
       "<Figure size 432x288 with 1 Axes>"
      ]
     },
     "metadata": {
      "needs_background": "light"
     },
     "output_type": "display_data"
    }
   ],
   "source": [
    "plt.hist(output[\"score\"])"
   ]
  },
  {
   "cell_type": "code",
   "execution_count": 4,
   "metadata": {},
   "outputs": [
    {
     "data": {
      "text/plain": [
       "2.4647037809436003e-25"
      ]
     },
     "execution_count": 4,
     "metadata": {},
     "output_type": "execute_result"
    }
   ],
   "source": [
    "pminus = min(tulip_unscaled_probs)\n",
    "pplus = max(tulip_unscaled_probs)\n",
    "pminus"
   ]
  },
  {
   "cell_type": "code",
   "execution_count": 20,
   "metadata": {},
   "outputs": [
    {
     "name": "stdout",
     "output_type": "stream",
     "text": [
      "1.624337919328897e-14\n",
      "2.4647037809436003e-25\n",
      "0.29155636129594886\n",
      "1.4312853975843774e-06\n"
     ]
    },
    {
     "data": {
      "text/plain": [
       "(array([32., 39., 19., 14.,  6., 13., 12., 23., 43., 51.]),\n",
       " array([0.04464286, 0.13870074, 0.23275862, 0.3268165 , 0.42087438,\n",
       "        0.51493227, 0.60899015, 0.70304803, 0.79710591, 0.89116379,\n",
       "        0.98522167]),\n",
       " <BarContainer object of 10 artists>)"
      ]
     },
     "execution_count": 20,
     "metadata": {},
     "output_type": "execute_result"
    },
    {
     "data": {
      "image/png": "[encoded data removed]",
      "text/plain": [
       "<Figure size 432x288 with 1 Axes>"
      ]
     },
     "metadata": {
      "needs_background": "light"
     },
     "output_type": "display_data"
    }
   ],
   "source": [
    "from binding_affinity_derivation import fit_params, get_pbind_from_tulip_probs\n",
    "\n",
    "pminus = max(tulip_unscaled_probs)\n",
    "pplus = min(tulip_unscaled_probs)\n",
    "print(pminus)\n",
    "print(pplus)\n",
    "\n",
    "eta, eta_tilde = fit_params(kplus, kminus, pplus, pminus)\n",
    "print(eta)\n",
    "print(eta_tilde)\n",
    "alt_pbinds = get_pbind_from_tulip_probs(tulip_unscaled_probs, eta, eta_tilde, 1)\n",
    "plt.hist(alt_pbinds)"
   ]
  },
  {
   "cell_type": "markdown",
   "metadata": {},
   "source": [
    "This stuff is correct, but it looks like the choice of thingy is quite important (do we _expect_ these two peaks? Sort of maybe, but it's really not clear from the initial distribution, or even its log)"
   ]
  },
  {
   "cell_type": "code",
   "execution_count": 12,
   "metadata": {},
   "outputs": [
    {
     "data": {
      "text/plain": [
       "0.04464285714285712"
      ]
     },
     "execution_count": 12,
     "metadata": {},
     "output_type": "execute_result"
    }
   ],
   "source": [
    "get_pbind_from_tulip_probs(min(tulip_unscaled_probs), eta, eta_tilde, 1)"
   ]
  },
  {
   "cell_type": "code",
   "execution_count": 13,
   "metadata": {},
   "outputs": [
    {
     "data": {
      "text/plain": [
       "0.9852216748768474"
      ]
     },
     "execution_count": 13,
     "metadata": {},
     "output_type": "execute_result"
    }
   ],
   "source": [
    "get_pbind_from_tulip_probs(max(tulip_unscaled_probs), eta, eta_tilde, 1)"
   ]
  },
  {
   "cell_type": "code",
   "execution_count": 23,
   "metadata": {},
   "outputs": [
    {
     "data": {
      "image/png": "[encoded data removed]",
      "text/plain": [
       "<Figure size 432x288 with 1 Axes>"
      ]
     },
     "metadata": {
      "needs_background": "light"
     },
     "output_type": "display_data"
    },
    {
     "data": {
      "image/png": "[encoded data removed]",
      "text/plain": [
       "<Figure size 432x288 with 1 Axes>"
      ]
     },
     "metadata": {
      "needs_background": "light"
     },
     "output_type": "display_data"
    },
    {
     "data": {
      "image/png": "[encoded data removed]",
      "text/plain": [
       "<Figure size 432x288 with 1 Axes>"
      ]
     },
     "metadata": {
      "needs_background": "light"
     },
     "output_type": "display_data"
    },
    {
     "data": {
      "image/png": "[encoded data removed]",
      "text/plain": [
       "<Figure size 432x288 with 1 Axes>"
      ]
     },
     "metadata": {
      "needs_background": "light"
     },
     "output_type": "display_data"
    },
    {
     "data": {
      "image/png": "[encoded data removed]",
      "text/plain": [
       "<Figure size 432x288 with 1 Axes>"
      ]
     },
     "metadata": {
      "needs_background": "light"
     },
     "output_type": "display_data"
    }
   ],
   "source": [
    "values = [1,2,5,10,100]\n",
    "\n",
    "for value in values:\n",
    "    alt_pbinds = get_pbind_from_tulip_probs(tulip_unscaled_probs, eta, eta_tilde, value)\n",
    "    plt.hist(alt_pbinds)\n",
    "    plt.show()"
   ]
  },
  {
   "cell_type": "code",
   "execution_count": 26,
   "metadata": {},
   "outputs": [
    {
     "data": {
      "image/png": "[encoded data removed]",
      "text/plain": [
       "<Figure size 432x288 with 1 Axes>"
      ]
     },
     "metadata": {
      "needs_background": "light"
     },
     "output_type": "display_data"
    },
    {
     "data": {
      "image/png": "[encoded data removed]",
      "text/plain": [
       "<Figure size 432x288 with 1 Axes>"
      ]
     },
     "metadata": {
      "needs_background": "light"
     },
     "output_type": "display_data"
    },
    {
     "data": {
      "image/png": "[encoded data removed]",
      "text/plain": [
       "<Figure size 432x288 with 1 Axes>"
      ]
     },
     "metadata": {
      "needs_background": "light"
     },
     "output_type": "display_data"
    },
    {
     "data": {
      "image/png": "[encoded data removed]",
      "text/plain": [
       "<Figure size 432x288 with 1 Axes>"
      ]
     },
     "metadata": {
      "needs_background": "light"
     },
     "output_type": "display_data"
    }
   ],
   "source": [
    "values = [0.001,0.01,0.1,1]\n",
    "\n",
    "for value in values:\n",
    "    alt_pbinds = get_pbind_from_tulip_probs(tulip_unscaled_probs, eta, eta_tilde, value)\n",
    "    plt.hist(alt_pbinds)\n",
    "    plt.show()"
   ]
  },
  {
   "cell_type": "code",
   "execution_count": 7,
   "metadata": {},
   "outputs": [
    {
     "data": {
      "text/plain": [
       "(array([107.,  24.,  15.,  10.,  12.,  17.,  24.,  25.,  12.,   6.]),\n",
       " array([0.00465116, 0.09114257, 0.17763397, 0.26412538, 0.35061678,\n",
       "        0.43710819, 0.5235996 , 0.610091  , 0.69658241, 0.78307381,\n",
       "        0.86956522]),\n",
       " <BarContainer object of 10 artists>)"
      ]
     },
     "execution_count": 7,
     "metadata": {},
     "output_type": "execute_result"
    },
    {
     "data": {
      "image/png": "[encoded data removed]",
      "text/plain": [
       "<Figure size 432x288 with 1 Axes>"
      ]
     },
     "metadata": {
      "needs_background": "light"
     },
     "output_type": "display_data"
    }
   ],
   "source": [
    "pbinds = fit_params_and_get_pbind_from_tulip_probs(tulip_unscaled_probs, kplus, kminus, 0.1) # This is truly wrong because we have a reversal of where the probabilites go, and eta < 0\n",
    "plt.hist(pbinds)"
   ]
  },
  {
   "cell_type": "markdown",
   "metadata": {},
   "source": [
    "Let us try switching `kplus` and `kminus`"
   ]
  },
  {
   "cell_type": "markdown",
   "metadata": {},
   "source": [
    "As we increase T_conc, the distribution becomes more spread."
   ]
  },
  {
   "cell_type": "code",
   "execution_count": 4,
   "metadata": {},
   "outputs": [
    {
     "data": {
      "text/plain": [
       "receptor_number                  0\n",
       "CDR3a                        <MIS>\n",
       "CDR3b              CASSLHWGLSEKLFF\n",
       "peptide                  LGSPGDAGL\n",
       "score                   -39.831116\n",
       "rank                             8\n",
       "binder                           1\n",
       "Name: 0, dtype: object"
      ]
     },
     "execution_count": 4,
     "metadata": {},
     "output_type": "execute_result"
    }
   ],
   "source": [
    "n = 100 \n",
    "\n",
    "output.loc[0]"
   ]
  }
 ],
 "metadata": {
  "kernelspec": {
   "display_name": "Python 3",
   "language": "python",
   "name": "python3"
  },
  "language_info": {
   "codemirror_mode": {
    "name": "ipython",
    "version": 3
   },
   "file_extension": ".py",
   "mimetype": "text/x-python",
   "name": "python",
   "nbconvert_exporter": "python",
   "pygments_lexer": "ipython3",
   "version": "3.10.2"
  }
 },
 "nbformat": 4,
 "nbformat_minor": 2
}
