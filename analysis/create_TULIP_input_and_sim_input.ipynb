{
 "cells": [
  {
   "cell_type": "markdown",
   "metadata": {},
   "source": [
    "We need to make a file with all pairwise combinations to get our predictions. We also need to be able to turn this into a matrix later."
   ]
  },
  {
   "cell_type": "code",
   "execution_count": 7,
   "metadata": {},
   "outputs": [],
   "source": [
    "def read_phenotypes(filename):\n",
    "    filepath = \"\" + filename\n",
    "    with open(filepath, \"r\") as file:\n",
    "        phenotypes = [line.rstrip(\"\\n\") for line in file]\n",
    "    return phenotypes\n",
    "\n",
    "\n",
    "TCRs = read_phenotypes(\"real_sample_TCRs.txt\")\n",
    "peptides = read_phenotypes(\"real_sample_peptides.txt\")"
   ]
  },
  {
   "cell_type": "code",
   "execution_count": 8,
   "metadata": {},
   "outputs": [],
   "source": [
    "import numpy as np\n",
    "\n",
    "pairs = [[(TCR, pep) for TCR in TCRs] for pep in peptides]"
   ]
  },
  {
   "cell_type": "code",
   "execution_count": 9,
   "metadata": {},
   "outputs": [],
   "source": [
    "missing = \"<MIS>\"\n",
    "\n",
    "def get_row_dict_from_pair(pair):\n",
    "    row_dict = {}\n",
    "    row_dict[\"CDR3b\"] = pair[0]\n",
    "    row_dict[\"CDR3a\"] = missing\n",
    "    row_dict[\"peptide\"] = pair[1]\n",
    "    row_dict[\"MHC\"] = missing\n",
    "    row_dict[\"binder\"] = 1\n",
    "\n",
    "    return row_dict\n"
   ]
  },
  {
   "cell_type": "code",
   "execution_count": 10,
   "metadata": {},
   "outputs": [],
   "source": [
    "import pandas as pd\n",
    "\n",
    "row_list = []\n",
    "for blom in pairs:\n",
    "    for pair in blom:\n",
    "        row_dict = get_row_dict_from_pair(pair)\n",
    "        row_list.append(row_dict)\n",
    "\n",
    "input = pd.DataFrame(row_list)\n",
    "# input = pd.DataFrame(columns=[\"CDR3b\",\"CDR3a\",\"peptide\",\"MHC\",\"binder\"])\n",
    "input.to_csv(\"../data/input_5.csv\")\n"
   ]
  },
  {
   "cell_type": "markdown",
   "metadata": {},
   "source": [
    "### Now that the predictor has been run, let us create our simulation input: the binding probability matrix"
   ]
  },
  {
   "cell_type": "code",
   "execution_count": 11,
   "metadata": {},
   "outputs": [
    {
     "data": {
      "text/plain": [
       "(array([248.,   2.,   0.,   0.,   0.,   0.,   0.,   1.,   0.,   1.]),\n",
       " array([2.46470378e-25, 1.62433792e-15, 3.24867584e-15, 4.87301376e-15,\n",
       "        6.49735168e-15, 8.12168960e-15, 9.74602752e-15, 1.13703654e-14,\n",
       "        1.29947034e-14, 1.46190413e-14, 1.62433792e-14]),\n",
       " <BarContainer object of 10 artists>)"
      ]
     },
     "execution_count": 11,
     "metadata": {},
     "output_type": "execute_result"
    },
    {
     "data": {
      "image/png": "[encoded data removed]",
      "text/plain": [
       "<Figure size 432x288 with 1 Axes>"
      ]
     },
     "metadata": {
      "needs_background": "light"
     },
     "output_type": "display_data"
    }
   ],
   "source": [
    "import pandas as pd\n",
    "import numpy as np\n",
    "from plotting import get_unique_output\n",
    "import scipy.constants as sp\n",
    "\n",
    "output = pd.read_csv(\"../output/\" + get_unique_output(\"5\"))\n",
    "tulip_unscaled_probs = np.exp(output[\"score\"])\n",
    "\n",
    "import matplotlib.pyplot as plt\n",
    "\n",
    "from binding_affinity_derivation import fit_params_and_get_pbind_from_tulip_probs\n",
    "\n",
    "kplus = 21.4\n",
    "kminus = 0.015\n",
    "# avogadro = sp.Avogadro\n",
    "# T_conc = np.power(np.int64(10), 14) \n",
    "# T_conc = T_conc / avogadro\n",
    "# T_conc = (T_conc * np.power(10, 3)) \n",
    "# T_conc = T_conc * np.power(10, 6)\n",
    "# print(T_conc)\n",
    "# tulip_unscaled_probs = 10000000000000 * tulip_unscaled_probs\n",
    "# tulip_unscaled_probs = [prob for prob in tulip_unscaled_probs if prob > 0.0001]\n",
    "\n",
    "# T_conc = 0.5\n",
    "\n",
    "plt.hist(tulip_unscaled_probs)"
   ]
  },
  {
   "cell_type": "code",
   "execution_count": 12,
   "metadata": {},
   "outputs": [
    {
     "data": {
      "text/plain": [
       "(array([125.,  29.,  24.,  29.,  17.,   8.,   8.,   7.,   3.,   2.]),\n",
       " array([0.002331  , 0.07902098, 0.15571096, 0.23240093, 0.30909091,\n",
       "        0.38578089, 0.46247086, 0.53916084, 0.61585082, 0.69254079,\n",
       "        0.76923077]),\n",
       " <BarContainer object of 10 artists>)"
      ]
     },
     "execution_count": 12,
     "metadata": {},
     "output_type": "execute_result"
    },
    {
     "data": {
      "image/png": "[encoded data removed]",
      "text/plain": [
       "<Figure size 432x288 with 1 Axes>"
      ]
     },
     "metadata": {
      "needs_background": "light"
     },
     "output_type": "display_data"
    }
   ],
   "source": [
    "pbinds = fit_params_and_get_pbind_from_tulip_probs(tulip_unscaled_probs, kplus, kminus, 0.05)\n",
    "plt.hist(pbinds)"
   ]
  },
  {
   "cell_type": "markdown",
   "metadata": {},
   "source": [
    "### We have our pbinds, so now we want to associate it with each pair"
   ]
  },
  {
   "cell_type": "code",
   "execution_count": 13,
   "metadata": {},
   "outputs": [
    {
     "data": {
      "text/html": [
       "<div>\n",
       "<style scoped>\n",
       "    .dataframe tbody tr th:only-of-type {\n",
       "        vertical-align: middle;\n",
       "    }\n",
       "\n",
       "    .dataframe tbody tr th {\n",
       "        vertical-align: top;\n",
       "    }\n",
       "\n",
       "    .dataframe thead th {\n",
       "        text-align: right;\n",
       "    }\n",
       "</style>\n",
       "<table border=\"1\" class=\"dataframe\">\n",
       "  <thead>\n",
       "    <tr style=\"text-align: right;\">\n",
       "      <th></th>\n",
       "      <th>receptor_number</th>\n",
       "      <th>CDR3a</th>\n",
       "      <th>CDR3b</th>\n",
       "      <th>peptide</th>\n",
       "      <th>score</th>\n",
       "      <th>rank</th>\n",
       "      <th>binder</th>\n",
       "    </tr>\n",
       "  </thead>\n",
       "  <tbody>\n",
       "    <tr>\n",
       "      <th>0</th>\n",
       "      <td>0</td>\n",
       "      <td>&lt;MIS&gt;</td>\n",
       "      <td>CASSLHWGLSEKLFF</td>\n",
       "      <td>LGSPGDAGL</td>\n",
       "      <td>-39.831116</td>\n",
       "      <td>8</td>\n",
       "      <td>1</td>\n",
       "    </tr>\n",
       "    <tr>\n",
       "      <th>1</th>\n",
       "      <td>1</td>\n",
       "      <td>&lt;MIS&gt;</td>\n",
       "      <td>CASGTGENTEAFF</td>\n",
       "      <td>LGSPGDAGL</td>\n",
       "      <td>-38.708435</td>\n",
       "      <td>14</td>\n",
       "      <td>1</td>\n",
       "    </tr>\n",
       "    <tr>\n",
       "      <th>2</th>\n",
       "      <td>2</td>\n",
       "      <td>&lt;MIS&gt;</td>\n",
       "      <td>CASSLGTYGYTF</td>\n",
       "      <td>LGSPGDAGL</td>\n",
       "      <td>-36.843071</td>\n",
       "      <td>20</td>\n",
       "      <td>1</td>\n",
       "    </tr>\n",
       "    <tr>\n",
       "      <th>3</th>\n",
       "      <td>3</td>\n",
       "      <td>&lt;MIS&gt;</td>\n",
       "      <td>CATSDSRQGDASGELFF</td>\n",
       "      <td>LGSPGDAGL</td>\n",
       "      <td>-43.121780</td>\n",
       "      <td>1</td>\n",
       "      <td>1</td>\n",
       "    </tr>\n",
       "    <tr>\n",
       "      <th>4</th>\n",
       "      <td>4</td>\n",
       "      <td>&lt;MIS&gt;</td>\n",
       "      <td>CASFGSNQPQHF</td>\n",
       "      <td>LGSPGDAGL</td>\n",
       "      <td>-38.331421</td>\n",
       "      <td>16</td>\n",
       "      <td>1</td>\n",
       "    </tr>\n",
       "    <tr>\n",
       "      <th>...</th>\n",
       "      <td>...</td>\n",
       "      <td>...</td>\n",
       "      <td>...</td>\n",
       "      <td>...</td>\n",
       "      <td>...</td>\n",
       "      <td>...</td>\n",
       "      <td>...</td>\n",
       "    </tr>\n",
       "    <tr>\n",
       "      <th>247</th>\n",
       "      <td>16</td>\n",
       "      <td>&lt;MIS&gt;</td>\n",
       "      <td>CASRFPGTGGAGDPYEQYF</td>\n",
       "      <td>DYSHYYTSI</td>\n",
       "      <td>-38.384422</td>\n",
       "      <td>13</td>\n",
       "      <td>1</td>\n",
       "    </tr>\n",
       "    <tr>\n",
       "      <th>248</th>\n",
       "      <td>17</td>\n",
       "      <td>&lt;MIS&gt;</td>\n",
       "      <td>CASSMTGGGYNEQFF</td>\n",
       "      <td>DYSHYYTSI</td>\n",
       "      <td>-37.996445</td>\n",
       "      <td>16</td>\n",
       "      <td>1</td>\n",
       "    </tr>\n",
       "    <tr>\n",
       "      <th>249</th>\n",
       "      <td>18</td>\n",
       "      <td>&lt;MIS&gt;</td>\n",
       "      <td>CATSGPNALAGKQFF</td>\n",
       "      <td>DYSHYYTSI</td>\n",
       "      <td>-38.957169</td>\n",
       "      <td>10</td>\n",
       "      <td>1</td>\n",
       "    </tr>\n",
       "    <tr>\n",
       "      <th>250</th>\n",
       "      <td>19</td>\n",
       "      <td>&lt;MIS&gt;</td>\n",
       "      <td>CASSLAKLAGGRNTEAFF</td>\n",
       "      <td>DYSHYYTSI</td>\n",
       "      <td>-38.081192</td>\n",
       "      <td>14</td>\n",
       "      <td>1</td>\n",
       "    </tr>\n",
       "    <tr>\n",
       "      <th>251</th>\n",
       "      <td>20</td>\n",
       "      <td>&lt;MIS&gt;</td>\n",
       "      <td>CASSHSSGSSYNEQFF</td>\n",
       "      <td>DYSHYYTSI</td>\n",
       "      <td>-38.590893</td>\n",
       "      <td>11</td>\n",
       "      <td>1</td>\n",
       "    </tr>\n",
       "  </tbody>\n",
       "</table>\n",
       "<p>252 rows × 7 columns</p>\n",
       "</div>"
      ],
      "text/plain": [
       "     receptor_number  CDR3a                CDR3b    peptide      score  rank  \\\n",
       "0                  0  <MIS>      CASSLHWGLSEKLFF  LGSPGDAGL -39.831116     8   \n",
       "1                  1  <MIS>        CASGTGENTEAFF  LGSPGDAGL -38.708435    14   \n",
       "2                  2  <MIS>         CASSLGTYGYTF  LGSPGDAGL -36.843071    20   \n",
       "3                  3  <MIS>    CATSDSRQGDASGELFF  LGSPGDAGL -43.121780     1   \n",
       "4                  4  <MIS>         CASFGSNQPQHF  LGSPGDAGL -38.331421    16   \n",
       "..               ...    ...                  ...        ...        ...   ...   \n",
       "247               16  <MIS>  CASRFPGTGGAGDPYEQYF  DYSHYYTSI -38.384422    13   \n",
       "248               17  <MIS>      CASSMTGGGYNEQFF  DYSHYYTSI -37.996445    16   \n",
       "249               18  <MIS>      CATSGPNALAGKQFF  DYSHYYTSI -38.957169    10   \n",
       "250               19  <MIS>   CASSLAKLAGGRNTEAFF  DYSHYYTSI -38.081192    14   \n",
       "251               20  <MIS>     CASSHSSGSSYNEQFF  DYSHYYTSI -38.590893    11   \n",
       "\n",
       "     binder  \n",
       "0         1  \n",
       "1         1  \n",
       "2         1  \n",
       "3         1  \n",
       "4         1  \n",
       "..      ...  \n",
       "247       1  \n",
       "248       1  \n",
       "249       1  \n",
       "250       1  \n",
       "251       1  \n",
       "\n",
       "[252 rows x 7 columns]"
      ]
     },
     "execution_count": 13,
     "metadata": {},
     "output_type": "execute_result"
    }
   ],
   "source": [
    "output"
   ]
  },
  {
   "cell_type": "markdown",
   "metadata": {},
   "source": [
    "Order gets preserved, which is reassuring. So we will use the arrays we have to index the matrix we want to make"
   ]
  },
  {
   "cell_type": "code",
   "execution_count": 14,
   "metadata": {},
   "outputs": [
    {
     "name": "stdout",
     "output_type": "stream",
     "text": [
      "12   21\n"
     ]
    }
   ],
   "source": [
    "P = len(peptides)\n",
    "T = len(TCRs)\n",
    "print(P, \" \", T)\n",
    "\n",
    "binding_prob_matrix = np.zeros((T, P))"
   ]
  },
  {
   "cell_type": "code",
   "execution_count": 15,
   "metadata": {},
   "outputs": [],
   "source": [
    "for i in range(T):\n",
    "    binding_prob_matrix[i] = pbinds[i * P: (i+1) * P]"
   ]
  },
  {
   "cell_type": "markdown",
   "metadata": {},
   "source": [
    "We have now created our matrix."
   ]
  },
  {
   "cell_type": "code",
   "execution_count": 16,
   "metadata": {},
   "outputs": [
    {
     "data": {
      "text/plain": [
       "array([[0.24015867, 0.30481243, 0.43030022, 0.10801068, 0.3285911 ,\n",
       "        0.22135837, 0.25891572, 0.30746149, 0.23256654, 0.25249296,\n",
       "        0.20116413, 0.38707985],\n",
       "       [0.17538068, 0.06552412, 0.27652473, 0.36079412, 0.29858219,\n",
       "        0.13435906, 0.21558176, 0.28830344, 0.38681364, 0.01192502,\n",
       "        0.00951709, 0.00715459],\n",
       "       [0.01112393, 0.00942249, 0.00897971, 0.01510773, 0.00882997,\n",
       "        0.00940673, 0.01223983, 0.011871  , 0.00711581, 0.01133248,\n",
       "        0.00425214, 0.00357084],\n",
       "       [0.01320154, 0.01343048, 0.00625137, 0.00576681, 0.00961927,\n",
       "        0.00668253, 0.00995166, 0.0164176 , 0.01823764, 0.00693111,\n",
       "        0.0064366 , 0.03336839],\n",
       "       [0.04199477, 0.00621082, 0.00943564, 0.01234027, 0.03447537,\n",
       "        0.01435361, 0.00386186, 0.01749683, 0.01062794, 0.02548386,\n",
       "        0.03261038, 0.01009199],\n",
       "       [0.0154773 , 0.03531657, 0.01142606, 0.17460641, 0.21413033,\n",
       "        0.24997478, 0.10876122, 0.09165521, 0.20298002, 0.16200965,\n",
       "        0.05976635, 0.16031274],\n",
       "       [0.11474889, 0.16935438, 0.13503937, 0.13750971, 0.04423103,\n",
       "        0.07134086, 0.25604135, 0.17596097, 0.3143404 , 0.09801094,\n",
       "        0.3206151 , 0.21903174],\n",
       "       [0.00710073, 0.00649077, 0.00366554, 0.01285566, 0.00524799,\n",
       "        0.01217799, 0.0091625 , 0.01249301, 0.01218618, 0.007179  ,\n",
       "        0.01670745, 0.01443292],\n",
       "       [0.00753671, 0.00514287, 0.00717242, 0.01428319, 0.00781742,\n",
       "        0.002331  , 0.01183097, 0.01702382, 0.00716267, 0.55842717,\n",
       "        0.67231829, 0.59075365],\n",
       "       [0.76923077, 0.5264671 , 0.37562964, 0.34555404, 0.56349403,\n",
       "        0.75373252, 0.573441  , 0.54259312, 0.6452546 , 0.38201992,\n",
       "        0.19568711, 0.62989704],\n",
       "       [0.59705911, 0.46583218, 0.34033654, 0.46869738, 0.53075165,\n",
       "        0.4992085 , 0.01998568, 0.00745624, 0.00677902, 0.01508875,\n",
       "        0.01149836, 0.02593668],\n",
       "       [0.00750268, 0.01033509, 0.01351792, 0.03072794, 0.02271121,\n",
       "        0.01492232, 0.0061497 , 0.00578083, 0.00750269, 0.02636959,\n",
       "        0.01280275, 0.00818923],\n",
       "       [0.01187459, 0.01981561, 0.01631539, 0.01061106, 0.03457576,\n",
       "        0.02155232, 0.02431772, 0.05972486, 0.00526   , 0.04434057,\n",
       "        0.00794119, 0.02097524],\n",
       "       [0.00619167, 0.00840635, 0.01198867, 0.0176474 , 0.00332573,\n",
       "        0.00932186, 0.06739582, 0.02760858, 0.01891095, 0.0182553 ,\n",
       "        0.01766804, 0.02276838],\n",
       "       [0.26521316, 0.22912652, 0.50238548, 0.09837484, 0.24542693,\n",
       "        0.3052979 , 0.27471455, 0.14298428, 0.29564425, 0.22068663,\n",
       "        0.22362346, 0.37297903],\n",
       "       [0.08066607, 0.1370625 , 0.30535405, 0.40019086, 0.38812766,\n",
       "        0.20742566, 0.13222263, 0.26894686, 0.25693641, 0.0669997 ,\n",
       "        0.12946174, 0.16824052],\n",
       "       [0.06493055, 0.05579346, 0.06438104, 0.16111354, 0.02600367,\n",
       "        0.0525226 , 0.03184128, 0.12990046, 0.03151699, 0.07524235,\n",
       "        0.05241654, 0.03929474],\n",
       "       [0.15689882, 0.12412025, 0.41341133, 0.04370648, 0.0781793 ,\n",
       "        0.10173641, 0.18316295, 0.10692309, 0.08405832, 0.16830154,\n",
       "        0.27932811, 0.08654368],\n",
       "       [0.3597078 , 0.13492146, 0.20275646, 0.14177573, 0.2347902 ,\n",
       "        0.11477917, 0.06404521, 0.05633951, 0.08324635, 0.54724152,\n",
       "        0.34906226, 0.07958426],\n",
       "       [0.14624371, 0.23711707, 0.28476062, 0.24012579, 0.2440637 ,\n",
       "        0.42082744, 0.21894443, 0.13848689, 0.46678655, 0.2597138 ,\n",
       "        0.07921566, 0.24257766],\n",
       "       [0.34594753, 0.46887297, 0.31515407, 0.03107338, 0.14805428,\n",
       "        0.24213246, 0.45142336, 0.32519097, 0.35048687, 0.28966637,\n",
       "        0.34488305, 0.31212252]])"
      ]
     },
     "execution_count": 16,
     "metadata": {},
     "output_type": "execute_result"
    }
   ],
   "source": [
    "binding_prob_matrix"
   ]
  },
  {
   "cell_type": "markdown",
   "metadata": {},
   "source": [
    "We now wish to export this!"
   ]
  },
  {
   "cell_type": "code",
   "execution_count": 21,
   "metadata": {},
   "outputs": [
    {
     "data": {
      "text/plain": [
       "12"
      ]
     },
     "execution_count": 21,
     "metadata": {},
     "output_type": "execute_result"
    }
   ],
   "source": [
    "np.size(binding_prob_matrix,1)"
   ]
  },
  {
   "cell_type": "code",
   "execution_count": 18,
   "metadata": {},
   "outputs": [],
   "source": [
    "np.savetxt(\"matrix.txt\", binding_prob_matrix)"
   ]
  }
 ],
 "metadata": {
  "kernelspec": {
   "display_name": "Python 3",
   "language": "python",
   "name": "python3"
  },
  "language_info": {
   "codemirror_mode": {
    "name": "ipython",
    "version": 3
   },
   "file_extension": ".py",
   "mimetype": "text/x-python",
   "name": "python",
   "nbconvert_exporter": "python",
   "pygments_lexer": "ipython3",
   "version": "3.10.2"
  }
 },
 "nbformat": 4,
 "nbformat_minor": 2
}
