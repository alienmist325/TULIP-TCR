{
 "cells": [
  {
   "cell_type": "code",
   "execution_count": 2,
   "metadata": {},
   "outputs": [],
   "source": [
    "import pandas as pd\n",
    "# Let us shuffle our data, by shuffling one of the columns\n",
    "unmodified_data =pd.read_csv(\"../data/VDJ_test_2.csv\")\n",
    "output = pd.read_csv(\"../output/output-20240122-152625.csv\")"
   ]
  },
  {
   "cell_type": "code",
   "execution_count": 3,
   "metadata": {},
   "outputs": [],
   "source": [
    "scores = output[\"score\"]"
   ]
  },
  {
   "cell_type": "code",
   "execution_count": 4,
   "metadata": {},
   "outputs": [],
   "source": [
    "unmodified_data['CDR3a'] = unmodified_data['CDR3a'].sample(frac=1).values"
   ]
  },
  {
   "cell_type": "code",
   "execution_count": 6,
   "metadata": {},
   "outputs": [],
   "source": [
    "unmodified_data.to_csv(\"../data/VDJ_test_2_shuffled.csv\")"
   ]
  },
  {
   "cell_type": "code",
   "execution_count": 8,
   "metadata": {},
   "outputs": [
    {
     "data": {
      "text/plain": [
       "(array([   4.,    6.,   20.,   36.,   61.,   62.,  150.,  817., 2257.,\n",
       "        2733.]),\n",
       " array([-7.90280609e+01, -7.11252565e+01, -6.32224522e+01, -5.53196478e+01,\n",
       "        -4.74168434e+01, -3.95140390e+01, -3.16112347e+01, -2.37084303e+01,\n",
       "        -1.58056259e+01, -7.90282154e+00, -1.71660649e-05]),\n",
       " <BarContainer object of 10 artists>)"
      ]
     },
     "execution_count": 8,
     "metadata": {},
     "output_type": "execute_result"
    },
    {
     "data": {
      "image/png": "[encoded data removed]",
      "text/plain": [
       "<Figure size 432x288 with 1 Axes>"
      ]
     },
     "metadata": {
      "needs_background": "light"
     },
     "output_type": "display_data"
    }
   ],
   "source": [
    "import matplotlib.pyplot as plt\n",
    "\n",
    "shuffled_output = pd.read_csv(\"../output/output-20240128-233714_shuffled.csv\")\n",
    "shuffled_scores = shuffled_output[\"score\"]\n",
    "plt.hist(shuffled_scores, color=\"red\", alpha=0.5)\n",
    "plt.hist(scores, alpha=0.5)"
   ]
  },
  {
   "cell_type": "markdown",
   "metadata": {},
   "source": [
    "We will do this again, but try a different strategy. We will extract all positive entries first, and then compare those outputs"
   ]
  },
  {
   "cell_type": "code",
   "execution_count": 2,
   "metadata": {},
   "outputs": [],
   "source": [
    "import pandas as pd\n",
    "# Let us shuffle our data, by shuffling one of the columns\n",
    "unmodified_input =pd.read_csv(\"../data/input_original.csv\")"
   ]
  },
  {
   "cell_type": "code",
   "execution_count": 10,
   "metadata": {},
   "outputs": [
    {
     "data": {
      "text/html": [
       "<div>\n",
       "<style scoped>\n",
       "    .dataframe tbody tr th:only-of-type {\n",
       "        vertical-align: middle;\n",
       "    }\n",
       "\n",
       "    .dataframe tbody tr th {\n",
       "        vertical-align: top;\n",
       "    }\n",
       "\n",
       "    .dataframe thead th {\n",
       "        text-align: right;\n",
       "    }\n",
       "</style>\n",
       "<table border=\"1\" class=\"dataframe\">\n",
       "  <thead>\n",
       "    <tr style=\"text-align: right;\">\n",
       "      <th></th>\n",
       "      <th>Unnamed: 0</th>\n",
       "      <th>CDR3b</th>\n",
       "      <th>CDR3a</th>\n",
       "      <th>peptide</th>\n",
       "      <th>MHC</th>\n",
       "      <th>binder</th>\n",
       "    </tr>\n",
       "  </thead>\n",
       "  <tbody>\n",
       "    <tr>\n",
       "      <th>0</th>\n",
       "      <td>0</td>\n",
       "      <td>CASSIRASYEQYF</td>\n",
       "      <td>CAGASGNTGKLIF</td>\n",
       "      <td>GILGFVFTL</td>\n",
       "      <td>HLA-A*02:01</td>\n",
       "      <td>1</td>\n",
       "    </tr>\n",
       "    <tr>\n",
       "      <th>1</th>\n",
       "      <td>1</td>\n",
       "      <td>CASSIRSTDTQYF</td>\n",
       "      <td>CAGSGGGSQGNLIF</td>\n",
       "      <td>GILGFVFTL</td>\n",
       "      <td>HLA-A*02:01</td>\n",
       "      <td>1</td>\n",
       "    </tr>\n",
       "    <tr>\n",
       "      <th>2</th>\n",
       "      <td>2</td>\n",
       "      <td>CASSIRAADTQYF</td>\n",
       "      <td>CALDMGGGSQGNLIF</td>\n",
       "      <td>GILGFVFTL</td>\n",
       "      <td>HLA-A*02:01</td>\n",
       "      <td>1</td>\n",
       "    </tr>\n",
       "    <tr>\n",
       "      <th>3</th>\n",
       "      <td>3</td>\n",
       "      <td>CATSSGTGAYEQYF</td>\n",
       "      <td>CVVNAHDMRF</td>\n",
       "      <td>LLWNGPMAV</td>\n",
       "      <td>HLA-A*02:01</td>\n",
       "      <td>1</td>\n",
       "    </tr>\n",
       "    <tr>\n",
       "      <th>4</th>\n",
       "      <td>4</td>\n",
       "      <td>CASSDASGSIGEQFF</td>\n",
       "      <td>CAVTVSNDYKLSF</td>\n",
       "      <td>CINGVCWTV</td>\n",
       "      <td>HLA-A*02:01</td>\n",
       "      <td>1</td>\n",
       "    </tr>\n",
       "    <tr>\n",
       "      <th>...</th>\n",
       "      <td>...</td>\n",
       "      <td>...</td>\n",
       "      <td>...</td>\n",
       "      <td>...</td>\n",
       "      <td>...</td>\n",
       "      <td>...</td>\n",
       "    </tr>\n",
       "    <tr>\n",
       "      <th>871</th>\n",
       "      <td>871</td>\n",
       "      <td>CASSIRSSYEQYF</td>\n",
       "      <td>CAVPKGSQGNLIF</td>\n",
       "      <td>GILGFVFTL</td>\n",
       "      <td>HLA-A*02:01</td>\n",
       "      <td>1</td>\n",
       "    </tr>\n",
       "    <tr>\n",
       "      <th>872</th>\n",
       "      <td>872</td>\n",
       "      <td>CASSTRTSGNSYNEQFF</td>\n",
       "      <td>CAVEDYKAAGNKLTF</td>\n",
       "      <td>FLASKIGRLV</td>\n",
       "      <td>HLA-A*02:01</td>\n",
       "      <td>1</td>\n",
       "    </tr>\n",
       "    <tr>\n",
       "      <th>873</th>\n",
       "      <td>873</td>\n",
       "      <td>CALSDQNTGELFF</td>\n",
       "      <td>CVVNKDDKIIF</td>\n",
       "      <td>YLQPRTFLL</td>\n",
       "      <td>HLA-A*02:01</td>\n",
       "      <td>1</td>\n",
       "    </tr>\n",
       "    <tr>\n",
       "      <th>874</th>\n",
       "      <td>874</td>\n",
       "      <td>CSARDSMAQNTGELFF</td>\n",
       "      <td>CVVNNADKLIF</td>\n",
       "      <td>YLQPRTFLL</td>\n",
       "      <td>HLA-A*02:01</td>\n",
       "      <td>1</td>\n",
       "    </tr>\n",
       "    <tr>\n",
       "      <th>875</th>\n",
       "      <td>875</td>\n",
       "      <td>CASSIRSSYEQYF</td>\n",
       "      <td>CIELRARF</td>\n",
       "      <td>GILGFVFTL</td>\n",
       "      <td>HLA-A*02:01</td>\n",
       "      <td>1</td>\n",
       "    </tr>\n",
       "  </tbody>\n",
       "</table>\n",
       "<p>876 rows × 6 columns</p>\n",
       "</div>"
      ],
      "text/plain": [
       "     Unnamed: 0              CDR3b            CDR3a     peptide          MHC  \\\n",
       "0             0      CASSIRASYEQYF    CAGASGNTGKLIF   GILGFVFTL  HLA-A*02:01   \n",
       "1             1      CASSIRSTDTQYF   CAGSGGGSQGNLIF   GILGFVFTL  HLA-A*02:01   \n",
       "2             2      CASSIRAADTQYF  CALDMGGGSQGNLIF   GILGFVFTL  HLA-A*02:01   \n",
       "3             3     CATSSGTGAYEQYF       CVVNAHDMRF   LLWNGPMAV  HLA-A*02:01   \n",
       "4             4    CASSDASGSIGEQFF    CAVTVSNDYKLSF   CINGVCWTV  HLA-A*02:01   \n",
       "..          ...                ...              ...         ...          ...   \n",
       "871         871      CASSIRSSYEQYF    CAVPKGSQGNLIF   GILGFVFTL  HLA-A*02:01   \n",
       "872         872  CASSTRTSGNSYNEQFF  CAVEDYKAAGNKLTF  FLASKIGRLV  HLA-A*02:01   \n",
       "873         873      CALSDQNTGELFF      CVVNKDDKIIF   YLQPRTFLL  HLA-A*02:01   \n",
       "874         874   CSARDSMAQNTGELFF      CVVNNADKLIF   YLQPRTFLL  HLA-A*02:01   \n",
       "875         875      CASSIRSSYEQYF         CIELRARF   GILGFVFTL  HLA-A*02:01   \n",
       "\n",
       "     binder  \n",
       "0         1  \n",
       "1         1  \n",
       "2         1  \n",
       "3         1  \n",
       "4         1  \n",
       "..      ...  \n",
       "871       1  \n",
       "872       1  \n",
       "873       1  \n",
       "874       1  \n",
       "875       1  \n",
       "\n",
       "[876 rows x 6 columns]"
      ]
     },
     "execution_count": 10,
     "metadata": {},
     "output_type": "execute_result"
    }
   ],
   "source": [
    "all_positives_input = unmodified_input.loc[unmodified_input[\"binder\"] == 1]\n",
    "all_positives_input"
   ]
  },
  {
   "cell_type": "code",
   "execution_count": 9,
   "metadata": {},
   "outputs": [
    {
     "data": {
      "text/html": [
       "<div>\n",
       "<style scoped>\n",
       "    .dataframe tbody tr th:only-of-type {\n",
       "        vertical-align: middle;\n",
       "    }\n",
       "\n",
       "    .dataframe tbody tr th {\n",
       "        vertical-align: top;\n",
       "    }\n",
       "\n",
       "    .dataframe thead th {\n",
       "        text-align: right;\n",
       "    }\n",
       "</style>\n",
       "<table border=\"1\" class=\"dataframe\">\n",
       "  <thead>\n",
       "    <tr style=\"text-align: right;\">\n",
       "      <th></th>\n",
       "      <th>Unnamed: 0</th>\n",
       "      <th>CDR3b</th>\n",
       "      <th>CDR3a</th>\n",
       "      <th>peptide</th>\n",
       "      <th>MHC</th>\n",
       "      <th>binder</th>\n",
       "    </tr>\n",
       "  </thead>\n",
       "  <tbody>\n",
       "    <tr>\n",
       "      <th>0</th>\n",
       "      <td>0</td>\n",
       "      <td>CASSIRASYEQYF</td>\n",
       "      <td>CAASGTQTGANNLFF</td>\n",
       "      <td>GILGFVFTL</td>\n",
       "      <td>HLA-A*02:01</td>\n",
       "      <td>1</td>\n",
       "    </tr>\n",
       "    <tr>\n",
       "      <th>1</th>\n",
       "      <td>1</td>\n",
       "      <td>CASSIRSTDTQYF</td>\n",
       "      <td>CAGAYGGSQGNLIF</td>\n",
       "      <td>GILGFVFTL</td>\n",
       "      <td>HLA-A*02:01</td>\n",
       "      <td>1</td>\n",
       "    </tr>\n",
       "    <tr>\n",
       "      <th>2</th>\n",
       "      <td>2</td>\n",
       "      <td>CASSIRAADTQYF</td>\n",
       "      <td>CAVDTNTDKLIF</td>\n",
       "      <td>GILGFVFTL</td>\n",
       "      <td>HLA-A*02:01</td>\n",
       "      <td>1</td>\n",
       "    </tr>\n",
       "    <tr>\n",
       "      <th>3</th>\n",
       "      <td>3</td>\n",
       "      <td>CATSSGTGAYEQYF</td>\n",
       "      <td>CAVSPYGGSQGNLIF</td>\n",
       "      <td>LLWNGPMAV</td>\n",
       "      <td>HLA-A*02:01</td>\n",
       "      <td>1</td>\n",
       "    </tr>\n",
       "    <tr>\n",
       "      <th>4</th>\n",
       "      <td>4</td>\n",
       "      <td>CASSDASGSIGEQFF</td>\n",
       "      <td>CAGLGGKLIF</td>\n",
       "      <td>CINGVCWTV</td>\n",
       "      <td>HLA-A*02:01</td>\n",
       "      <td>1</td>\n",
       "    </tr>\n",
       "    <tr>\n",
       "      <th>...</th>\n",
       "      <td>...</td>\n",
       "      <td>...</td>\n",
       "      <td>...</td>\n",
       "      <td>...</td>\n",
       "      <td>...</td>\n",
       "      <td>...</td>\n",
       "    </tr>\n",
       "    <tr>\n",
       "      <th>871</th>\n",
       "      <td>871</td>\n",
       "      <td>CASSIRSSYEQYF</td>\n",
       "      <td>CGYGGSQGNLIF</td>\n",
       "      <td>GILGFVFTL</td>\n",
       "      <td>HLA-A*02:01</td>\n",
       "      <td>1</td>\n",
       "    </tr>\n",
       "    <tr>\n",
       "      <th>872</th>\n",
       "      <td>872</td>\n",
       "      <td>CASSTRTSGNSYNEQFF</td>\n",
       "      <td>CAGDDQGGKLIF</td>\n",
       "      <td>FLASKIGRLV</td>\n",
       "      <td>HLA-A*02:01</td>\n",
       "      <td>1</td>\n",
       "    </tr>\n",
       "    <tr>\n",
       "      <th>873</th>\n",
       "      <td>873</td>\n",
       "      <td>CALSDQNTGELFF</td>\n",
       "      <td>CAVKPGTASKLTF</td>\n",
       "      <td>YLQPRTFLL</td>\n",
       "      <td>HLA-A*02:01</td>\n",
       "      <td>1</td>\n",
       "    </tr>\n",
       "    <tr>\n",
       "      <th>874</th>\n",
       "      <td>874</td>\n",
       "      <td>CSARDSMAQNTGELFF</td>\n",
       "      <td>CATADFTSGTYKYIF</td>\n",
       "      <td>YLQPRTFLL</td>\n",
       "      <td>HLA-A*02:01</td>\n",
       "      <td>1</td>\n",
       "    </tr>\n",
       "    <tr>\n",
       "      <th>875</th>\n",
       "      <td>875</td>\n",
       "      <td>CASSIRSSYEQYF</td>\n",
       "      <td>CAVSDARNYQLIW</td>\n",
       "      <td>GILGFVFTL</td>\n",
       "      <td>HLA-A*02:01</td>\n",
       "      <td>1</td>\n",
       "    </tr>\n",
       "  </tbody>\n",
       "</table>\n",
       "<p>876 rows × 6 columns</p>\n",
       "</div>"
      ],
      "text/plain": [
       "     Unnamed: 0              CDR3b            CDR3a     peptide          MHC  \\\n",
       "0             0      CASSIRASYEQYF  CAASGTQTGANNLFF   GILGFVFTL  HLA-A*02:01   \n",
       "1             1      CASSIRSTDTQYF   CAGAYGGSQGNLIF   GILGFVFTL  HLA-A*02:01   \n",
       "2             2      CASSIRAADTQYF     CAVDTNTDKLIF   GILGFVFTL  HLA-A*02:01   \n",
       "3             3     CATSSGTGAYEQYF  CAVSPYGGSQGNLIF   LLWNGPMAV  HLA-A*02:01   \n",
       "4             4    CASSDASGSIGEQFF       CAGLGGKLIF   CINGVCWTV  HLA-A*02:01   \n",
       "..          ...                ...              ...         ...          ...   \n",
       "871         871      CASSIRSSYEQYF     CGYGGSQGNLIF   GILGFVFTL  HLA-A*02:01   \n",
       "872         872  CASSTRTSGNSYNEQFF     CAGDDQGGKLIF  FLASKIGRLV  HLA-A*02:01   \n",
       "873         873      CALSDQNTGELFF    CAVKPGTASKLTF   YLQPRTFLL  HLA-A*02:01   \n",
       "874         874   CSARDSMAQNTGELFF  CATADFTSGTYKYIF   YLQPRTFLL  HLA-A*02:01   \n",
       "875         875      CASSIRSSYEQYF    CAVSDARNYQLIW   GILGFVFTL  HLA-A*02:01   \n",
       "\n",
       "     binder  \n",
       "0         1  \n",
       "1         1  \n",
       "2         1  \n",
       "3         1  \n",
       "4         1  \n",
       "..      ...  \n",
       "871       1  \n",
       "872       1  \n",
       "873       1  \n",
       "874       1  \n",
       "875       1  \n",
       "\n",
       "[876 rows x 6 columns]"
      ]
     },
     "execution_count": 9,
     "metadata": {},
     "output_type": "execute_result"
    }
   ],
   "source": [
    "scrambled_input = all_positives_input.copy()\n",
    "scrambled_input['CDR3a'] = scrambled_input['CDR3a'].sample(frac=1).values\n",
    "scrambled_input"
   ]
  },
  {
   "cell_type": "code",
   "execution_count": 12,
   "metadata": {},
   "outputs": [],
   "source": [
    "all_positives_input.to_csv(\"../data/input_2.2.1.csv\")\n",
    "scrambled_input.to_csv(\"../data/input_2.2.2.csv\")"
   ]
  },
  {
   "cell_type": "code",
   "execution_count": 3,
   "metadata": {},
   "outputs": [
    {
     "data": {
      "text/plain": [
       "<module 'matplotlib.pyplot' from 'c:\\\\Users\\\\akesh\\\\AppData\\\\Local\\\\Programs\\\\Python\\\\Python310\\\\lib\\\\site-packages\\\\matplotlib\\\\pyplot.py'>"
      ]
     },
     "execution_count": 3,
     "metadata": {},
     "output_type": "execute_result"
    },
    {
     "data": {
      "image/png": "[encoded data removed]",
      "text/plain": [
       "<Figure size 432x288 with 1 Axes>"
      ]
     },
     "metadata": {
      "needs_background": "light"
     },
     "output_type": "display_data"
    }
   ],
   "source": [
    "from plotting import get_overlayed_distributions, get_unique_output\n",
    "\n",
    "sources = [get_unique_output(\"2.2.1\"), get_unique_output(\"2.2.2\")]\n",
    "colours = [\"blue\", \"red\"]\n",
    "shared_pre_dir = \"../output/\"\n",
    "\n",
    "get_overlayed_distributions(sources, shared_pre_dir, colours)"
   ]
  }
 ],
 "metadata": {
  "kernelspec": {
   "display_name": "Python 3",
   "language": "python",
   "name": "python3"
  },
  "language_info": {
   "codemirror_mode": {
    "name": "ipython",
    "version": 3
   },
   "file_extension": ".py",
   "mimetype": "text/x-python",
   "name": "python",
   "nbconvert_exporter": "python",
   "pygments_lexer": "ipython3",
   "version": "3.10.2"
  }
 },
 "nbformat": 4,
 "nbformat_minor": 2
}
