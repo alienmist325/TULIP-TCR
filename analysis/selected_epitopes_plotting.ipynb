{
 "cells": [
  {
   "cell_type": "markdown",
   "metadata": {},
   "source": [
    "Plotting the AUC of the epitopes mentioned in the paper."
   ]
  },
  {
   "cell_type": "code",
   "execution_count": 2,
   "metadata": {},
   "outputs": [],
   "source": [
    "import pandas as pd\n",
    "import numpy as np\n",
    "\n",
    "output_aucs = pd.read_csv(\"../output/output_original_auc-20240122-152625.csv\")"
   ]
  },
  {
   "cell_type": "code",
   "execution_count": 3,
   "metadata": {},
   "outputs": [],
   "source": [
    "epitopes = [\n",
    "    \"KLSALGINAV\",\n",
    "    \"RLGPVQNEV\",\n",
    "    \"ALSKGVHFV\",\n",
    "    \"LLDFVRFMGV\",\n",
    "    \"FLYALALLL\",\n",
    "    \"FLASKIGRLV\",\n",
    "    \"SLFNTVATLY\",\n",
    "    \"LLFGYPVYV\",\n",
    "    \"RLPGVLPRA\",\n",
    "    \"RTLNAWVKV\",\n",
    "    \"LLWNGPMAV\",\n",
    "    \"CINGVCWTV\",\n",
    "    \"ELAGIGILTV\",\n",
    "    \"YLQPRTFLL\",\n",
    "    \"GLCTLVAML\",\n",
    "    \"NLVPMVATV\",\n",
    "    \"GILGFVFTL\"]\n",
    "#epitopes.reverse()\n",
    "\n",
    "selected_output = output_aucs[output_aucs[\"peptide\"].isin(epitopes)]"
   ]
  },
  {
   "cell_type": "code",
   "execution_count": 4,
   "metadata": {},
   "outputs": [
    {
     "data": {
      "text/html": [
       "<div>\n",
       "<style scoped>\n",
       "    .dataframe tbody tr th:only-of-type {\n",
       "        vertical-align: middle;\n",
       "    }\n",
       "\n",
       "    .dataframe tbody tr th {\n",
       "        vertical-align: top;\n",
       "    }\n",
       "\n",
       "    .dataframe thead th {\n",
       "        text-align: right;\n",
       "    }\n",
       "</style>\n",
       "<table border=\"1\" class=\"dataframe\">\n",
       "  <thead>\n",
       "    <tr style=\"text-align: right;\">\n",
       "      <th></th>\n",
       "      <th>index</th>\n",
       "      <th>peptide</th>\n",
       "      <th>auc</th>\n",
       "    </tr>\n",
       "  </thead>\n",
       "  <tbody>\n",
       "    <tr>\n",
       "      <th>0</th>\n",
       "      <td>0</td>\n",
       "      <td>GILGFVFTL</td>\n",
       "      <td>0.946921</td>\n",
       "    </tr>\n",
       "    <tr>\n",
       "      <th>1</th>\n",
       "      <td>0</td>\n",
       "      <td>LLWNGPMAV</td>\n",
       "      <td>0.881369</td>\n",
       "    </tr>\n",
       "    <tr>\n",
       "      <th>2</th>\n",
       "      <td>0</td>\n",
       "      <td>CINGVCWTV</td>\n",
       "      <td>0.848989</td>\n",
       "    </tr>\n",
       "    <tr>\n",
       "      <th>3</th>\n",
       "      <td>0</td>\n",
       "      <td>ELAGIGILTV</td>\n",
       "      <td>0.880368</td>\n",
       "    </tr>\n",
       "    <tr>\n",
       "      <th>5</th>\n",
       "      <td>0</td>\n",
       "      <td>NLVPMVATV</td>\n",
       "      <td>0.913805</td>\n",
       "    </tr>\n",
       "    <tr>\n",
       "      <th>6</th>\n",
       "      <td>0</td>\n",
       "      <td>YLQPRTFLL</td>\n",
       "      <td>0.897234</td>\n",
       "    </tr>\n",
       "    <tr>\n",
       "      <th>7</th>\n",
       "      <td>0</td>\n",
       "      <td>SLFNTVATLY</td>\n",
       "      <td>0.829932</td>\n",
       "    </tr>\n",
       "    <tr>\n",
       "      <th>11</th>\n",
       "      <td>0</td>\n",
       "      <td>GLCTLVAML</td>\n",
       "      <td>0.922700</td>\n",
       "    </tr>\n",
       "    <tr>\n",
       "      <th>15</th>\n",
       "      <td>0</td>\n",
       "      <td>FLASKIGRLV</td>\n",
       "      <td>0.739583</td>\n",
       "    </tr>\n",
       "    <tr>\n",
       "      <th>22</th>\n",
       "      <td>0</td>\n",
       "      <td>FLYALALLL</td>\n",
       "      <td>0.986979</td>\n",
       "    </tr>\n",
       "    <tr>\n",
       "      <th>36</th>\n",
       "      <td>0</td>\n",
       "      <td>LLFGYPVYV</td>\n",
       "      <td>0.500000</td>\n",
       "    </tr>\n",
       "    <tr>\n",
       "      <th>37</th>\n",
       "      <td>0</td>\n",
       "      <td>ALSKGVHFV</td>\n",
       "      <td>0.796296</td>\n",
       "    </tr>\n",
       "    <tr>\n",
       "      <th>52</th>\n",
       "      <td>0</td>\n",
       "      <td>LLDFVRFMGV</td>\n",
       "      <td>0.843750</td>\n",
       "    </tr>\n",
       "    <tr>\n",
       "      <th>58</th>\n",
       "      <td>0</td>\n",
       "      <td>RLGPVQNEV</td>\n",
       "      <td>1.000000</td>\n",
       "    </tr>\n",
       "    <tr>\n",
       "      <th>63</th>\n",
       "      <td>0</td>\n",
       "      <td>RLPGVLPRA</td>\n",
       "      <td>0.740741</td>\n",
       "    </tr>\n",
       "    <tr>\n",
       "      <th>83</th>\n",
       "      <td>0</td>\n",
       "      <td>RTLNAWVKV</td>\n",
       "      <td>0.846939</td>\n",
       "    </tr>\n",
       "    <tr>\n",
       "      <th>125</th>\n",
       "      <td>0</td>\n",
       "      <td>KLSALGINAV</td>\n",
       "      <td>1.000000</td>\n",
       "    </tr>\n",
       "  </tbody>\n",
       "</table>\n",
       "</div>"
      ],
      "text/plain": [
       "     index     peptide       auc\n",
       "0        0   GILGFVFTL  0.946921\n",
       "1        0   LLWNGPMAV  0.881369\n",
       "2        0   CINGVCWTV  0.848989\n",
       "3        0  ELAGIGILTV  0.880368\n",
       "5        0   NLVPMVATV  0.913805\n",
       "6        0   YLQPRTFLL  0.897234\n",
       "7        0  SLFNTVATLY  0.829932\n",
       "11       0   GLCTLVAML  0.922700\n",
       "15       0  FLASKIGRLV  0.739583\n",
       "22       0   FLYALALLL  0.986979\n",
       "36       0   LLFGYPVYV  0.500000\n",
       "37       0   ALSKGVHFV  0.796296\n",
       "52       0  LLDFVRFMGV  0.843750\n",
       "58       0   RLGPVQNEV  1.000000\n",
       "63       0   RLPGVLPRA  0.740741\n",
       "83       0   RTLNAWVKV  0.846939\n",
       "125      0  KLSALGINAV  1.000000"
      ]
     },
     "execution_count": 4,
     "metadata": {},
     "output_type": "execute_result"
    }
   ],
   "source": [
    "selected_output"
   ]
  },
  {
   "cell_type": "code",
   "execution_count": 4,
   "metadata": {},
   "outputs": [],
   "source": [
    "selected_peptides = np.flip(np.array(selected_output[\"peptide\"]))\n",
    "selected_aucs = np.flip(np.array(selected_output[\"auc\"]))"
   ]
  },
  {
   "cell_type": "code",
   "execution_count": 5,
   "metadata": {},
   "outputs": [
    {
     "data": {
      "text/plain": [
       "0.9138052983539094"
      ]
     },
     "execution_count": 5,
     "metadata": {},
     "output_type": "execute_result"
    }
   ],
   "source": [
    "selected_output[selected_output[\"peptide\"] == \"NLVPMVATV\"][\"auc\"].values[0]"
   ]
  },
  {
   "cell_type": "code",
   "execution_count": 6,
   "metadata": {},
   "outputs": [
    {
     "data": {
      "image/png": "[encoded data removed]",
      "text/plain": [
       "<Figure size 432x288 with 1 Axes>"
      ]
     },
     "metadata": {
      "needs_background": "light"
     },
     "output_type": "display_data"
    }
   ],
   "source": [
    "import matplotlib.pyplot as plt\n",
    "\n",
    "plt.xticks(rotation=45, ha=\"right\")\n",
    "\n",
    "for epitope in epitopes:\n",
    "    #print(epitope)\n",
    "    a = selected_output[selected_output[\"peptide\"] == epitope]\n",
    "    b = a[\"auc\"]\n",
    "    #print(b)\n",
    "    c = b.values[0]\n",
    "    cur_auc = c\n",
    "    plt.scatter(epitope, cur_auc)"
   ]
  }
 ],
 "metadata": {
  "kernelspec": {
   "display_name": "Python 3",
   "language": "python",
   "name": "python3"
  },
  "language_info": {
   "codemirror_mode": {
    "name": "ipython",
    "version": 3
   },
   "file_extension": ".py",
   "mimetype": "text/x-python",
   "name": "python",
   "nbconvert_exporter": "python",
   "pygments_lexer": "ipython3",
   "version": "3.10.2"
  }
 },
 "nbformat": 4,
 "nbformat_minor": 2
}
