{
 "cells": [
  {
   "cell_type": "code",
   "execution_count": 2,
   "metadata": {},
   "outputs": [
    {
     "data": {
      "text/plain": [
       "<matplotlib.collections.PathCollection at 0x2803aa92800>"
      ]
     },
     "execution_count": 2,
     "metadata": {},
     "output_type": "execute_result"
    },
    {
     "data": {
      "image/png": "[encoded data removed]",
      "text/plain": [
       "<Figure size 432x288 with 1 Axes>"
      ]
     },
     "metadata": {
      "needs_background": "light"
     },
     "output_type": "display_data"
    }
   ],
   "source": [
    "import pandas as pd\n",
    "import matplotlib.pyplot as plt\n",
    "from plotting import get_unique_output\n",
    "from Levenshtein import distance as lev_dist\n",
    "\n",
    "\n",
    "source = \"output_original-20240122-152625.csv\"\n",
    "shared_pre_dir=\"../output/\"\n",
    "output = pd.read_csv(shared_pre_dir + source)\n",
    "\n",
    "TCRs = output[\"CDR3b\"]\n",
    "peps = output[\"peptide\"]\n",
    "scores = output[\"score\"]\n",
    "lev_dists = [lev_dist(TCR, pep) for (TCR, pep) in zip(TCRs, peps)]\n",
    "\n",
    "plt.scatter(scores, lev_dists)"
   ]
  },
  {
   "cell_type": "code",
   "execution_count": 7,
   "metadata": {},
   "outputs": [],
   "source": [
    "# First, fix a peptide, and then scatter the TCRs based on that\n",
    "one_peptide_output = output.loc[output[\"peptide\"] == \"GILGFVFTL\"]"
   ]
  },
  {
   "cell_type": "code",
   "execution_count": 22,
   "metadata": {},
   "outputs": [],
   "source": [
    "import numpy as np\n",
    "import itertools\n",
    "\n",
    "def pairwise_ratios(output):\n",
    "    scores = {}\n",
    "    pep = \"GILGFVFTL\"\n",
    "    TCRs = np.array(output[\"CDR3b\"])\n",
    "    print(TCRs)\n",
    "\n",
    "    for index, row in output.iterrows():\n",
    "        TCR = row[\"CDR3b\"]\n",
    "        score = row[\"score\"]\n",
    "        scores[TCR] = score\n",
    "\n",
    "    score_ratios = []\n",
    "    dist_ratios = []\n",
    "\n",
    "    for (T1, T2) in itertools.combinations(TCRs, 2):\n",
    "        score_ratio = scores[T1] / scores[T2]\n",
    "        dist_ratio = lev_dist(T1, pep) / lev_dist(T2, pep)\n",
    "        # print(score_ratio)\n",
    "        # print(dist_ratio)\n",
    "        \n",
    "        score_ratios.append(score_ratio)\n",
    "        dist_ratios.append(dist_ratio)\n",
    "\n",
    "    return score_ratios, dist_ratios\n",
    "\n"
   ]
  },
  {
   "cell_type": "code",
   "execution_count": 23,
   "metadata": {},
   "outputs": [
    {
     "name": "stdout",
     "output_type": "stream",
     "text": [
      "['CASSIRASYEQYF' 'CASSIRSTDTQYF' 'CASSIRAADTQYF' ... 'CASSQGQEKETQYF'\n",
      " 'CSARDQQGQNTGELFF' 'CASSLSGVPHNNEQFF']\n"
     ]
    }
   ],
   "source": [
    "score_ratios, dist_ratios = pairwise_ratios(one_peptide_output)"
   ]
  },
  {
   "cell_type": "code",
   "execution_count": 26,
   "metadata": {},
   "outputs": [
    {
     "data": {
      "text/plain": [
       "<matplotlib.collections.PathCollection at 0x280639d74c0>"
      ]
     },
     "execution_count": 26,
     "metadata": {},
     "output_type": "execute_result"
    },
    {
     "data": {
      "image/png": "[encoded data removed]",
      "text/plain": [
       "<Figure size 432x288 with 1 Axes>"
      ]
     },
     "metadata": {
      "needs_background": "light"
     },
     "output_type": "display_data"
    }
   ],
   "source": [
    "plt.scatter(np.log(score_ratios), dist_ratios)"
   ]
  },
  {
   "cell_type": "markdown",
   "metadata": {},
   "source": [
    "So presumably we have no correlation here between the ratios? I guess this is roughly expected."
   ]
  },
  {
   "cell_type": "markdown",
   "metadata": {},
   "source": [
    "Would we get different results if we had weighting on the distance?"
   ]
  }
 ],
 "metadata": {
  "kernelspec": {
   "display_name": "Python 3",
   "language": "python",
   "name": "python3"
  },
  "language_info": {
   "codemirror_mode": {
    "name": "ipython",
    "version": 3
   },
   "file_extension": ".py",
   "mimetype": "text/x-python",
   "name": "python",
   "nbconvert_exporter": "python",
   "pygments_lexer": "ipython3",
   "version": "3.10.2"
  }
 },
 "nbformat": 4,
 "nbformat_minor": 2
}
