{
 "cells": [
  {
   "cell_type": "code",
   "execution_count": 2,
   "metadata": {},
   "outputs": [],
   "source": [
    "import pandas as pd\n",
    "\n",
    "output = pd.read_csv(\"../output/output_original-20240218-165024.csv\")"
   ]
  },
  {
   "cell_type": "markdown",
   "metadata": {},
   "source": [
    "Plotting the distribution of the scores"
   ]
  },
  {
   "cell_type": "code",
   "execution_count": 2,
   "metadata": {},
   "outputs": [
    {
     "data": {
      "text/plain": [
       "(array([   4.,   23.,   61.,  113.,  151.,  148.,  240.,  325., 1582.,\n",
       "        3499.]),\n",
       " array([-5.87764015e+01, -5.28988081e+01, -4.70212146e+01, -4.11436212e+01,\n",
       "        -3.52660277e+01, -2.93884343e+01, -2.35108408e+01, -1.76332474e+01,\n",
       "        -1.17556539e+01, -5.87806046e+00, -4.67008562e-04]),\n",
       " <BarContainer object of 10 artists>)"
      ]
     },
     "execution_count": 2,
     "metadata": {},
     "output_type": "execute_result"
    },
    {
     "data": {
      "image/png": "[encoded data removed]",
      "text/plain": [
       "<Figure size 432x288 with 1 Axes>"
      ]
     },
     "metadata": {
      "needs_background": "light"
     },
     "output_type": "display_data"
    }
   ],
   "source": [
    "import matplotlib.pyplot as plt\n",
    "scores = output[\"score\"]\n",
    "plt.hist(scores)"
   ]
  },
  {
   "cell_type": "code",
   "execution_count": 3,
   "metadata": {},
   "outputs": [
    {
     "name": "stdout",
     "output_type": "stream",
     "text": [
      "-8.047089387706293\n",
      "9.3508169108883\n"
     ]
    }
   ],
   "source": [
    "import numpy as np\n",
    "print(np.mean(scores))\n",
    "print(np.sqrt(np.var(scores)))"
   ]
  },
  {
   "cell_type": "markdown",
   "metadata": {},
   "source": [
    "(Something like a gamma distribution, or similar?)"
   ]
  },
  {
   "cell_type": "code",
   "execution_count": 4,
   "metadata": {},
   "outputs": [
    {
     "data": {
      "text/plain": [
       "(array([ 3.,  1.,  4.,  0., 19.,  4., 29., 14., 45., 29.]),\n",
       " array([0.16666667, 0.25      , 0.33333333, 0.41666667, 0.5       ,\n",
       "        0.58333333, 0.66666667, 0.75      , 0.83333333, 0.91666667,\n",
       "        1.        ]),\n",
       " <BarContainer object of 10 artists>)"
      ]
     },
     "execution_count": 4,
     "metadata": {},
     "output_type": "execute_result"
    },
    {
     "data": {
      "image/png": "[encoded data removed]",
      "text/plain": [
       "<Figure size 432x288 with 1 Axes>"
      ]
     },
     "metadata": {
      "needs_background": "light"
     },
     "output_type": "display_data"
    }
   ],
   "source": [
    "output_aucs = pd.read_csv(\"../output/output_original_auc-20240218-165024.csv\")\n",
    "\n",
    "aucs = output_aucs[\"auc\"]\n",
    "plt.hist(aucs)"
   ]
  },
  {
   "cell_type": "code",
   "execution_count": 5,
   "metadata": {},
   "outputs": [
    {
     "name": "stdout",
     "output_type": "stream",
     "text": [
      "0.7530839178692024\n",
      "0.8333333333333333\n",
      "148\n"
     ]
    }
   ],
   "source": [
    "print(np.mean(aucs)) # Not quite the same as taking _all_ the aucs, weighted by the number in each class?\n",
    "print(np.median(aucs))\n",
    "print(len(aucs))"
   ]
  },
  {
   "cell_type": "code",
   "execution_count": 7,
   "metadata": {},
   "outputs": [
    {
     "data": {
      "text/plain": [
       "0      0.953109\n",
       "1      0.877135\n",
       "2      0.800634\n",
       "3      0.907100\n",
       "4      0.541667\n",
       "         ...   \n",
       "143    0.666667\n",
       "144    1.000000\n",
       "145    1.000000\n",
       "146    0.833333\n",
       "147    0.833333\n",
       "Name: auc, Length: 148, dtype: float64"
      ]
     },
     "execution_count": 7,
     "metadata": {},
     "output_type": "execute_result"
    }
   ],
   "source": [
    "aucs"
   ]
  },
  {
   "cell_type": "code",
   "execution_count": 6,
   "metadata": {},
   "outputs": [],
   "source": [
    "trimmed_output_aucs = output_aucs.loc[output_aucs['auc'] != 1].loc[output_aucs['auc'] != 0]\n",
    "trimmed_aucs = trimmed_output_aucs['auc']"
   ]
  },
  {
   "cell_type": "markdown",
   "metadata": {},
   "source": [
    "We're removing situations where you only have one TCR you're checking against (which are the majority of the cases where AUC $\\in \\{0,1\\}$)"
   ]
  },
  {
   "cell_type": "code",
   "execution_count": 8,
   "metadata": {},
   "outputs": [
    {
     "name": "stdout",
     "output_type": "stream",
     "text": [
      "0.7028977223141621\n",
      "0.75\n",
      "123\n"
     ]
    }
   ],
   "source": [
    "print(np.mean(trimmed_aucs)) # Not quite the same as taking _all_ the aucs, weighted by the number in each class?\n",
    "print(np.median(trimmed_aucs))\n",
    "print(len(trimmed_aucs))"
   ]
  },
  {
   "cell_type": "code",
   "execution_count": 9,
   "metadata": {},
   "outputs": [],
   "source": [
    "binders = output[\" binder\"]"
   ]
  },
  {
   "cell_type": "code",
   "execution_count": 10,
   "metadata": {},
   "outputs": [
    {
     "data": {
      "text/plain": [
       "0.7438107851937948"
      ]
     },
     "execution_count": 10,
     "metadata": {},
     "output_type": "execute_result"
    }
   ],
   "source": [
    "from sklearn.metrics import roc_auc_score\n",
    "\n",
    "roc_auc_score(binders, scores)"
   ]
  },
  {
   "cell_type": "code",
   "execution_count": 7,
   "metadata": {},
   "outputs": [
    {
     "data": {
      "text/plain": [
       "(array([   4.,    6.,   20.,   36.,   61.,   62.,  150.,  817., 2257.,\n",
       "        2733.]),\n",
       " array([-7.90280609e+01, -7.11252565e+01, -6.32224522e+01, -5.53196478e+01,\n",
       "        -4.74168434e+01, -3.95140390e+01, -3.16112347e+01, -2.37084303e+01,\n",
       "        -1.58056259e+01, -7.90282154e+00, -1.71660649e-05]),\n",
       " <BarContainer object of 10 artists>)"
      ]
     },
     "execution_count": 7,
     "metadata": {},
     "output_type": "execute_result"
    },
    {
     "data": {
      "image/png": "[encoded data removed]",
      "text/plain": [
       "<Figure size 432x288 with 1 Axes>"
      ]
     },
     "metadata": {
      "needs_background": "light"
     },
     "output_type": "display_data"
    }
   ],
   "source": [
    "import pandas as pd\n",
    "import matplotlib.pyplot as plt\n",
    "mis_output = pd.read_csv(\"../output/output-20240208-213247_MIS.csv\")\n",
    "mis_scores = mis_output[\"score\"]\n",
    "plt.hist(mis_scores, color=\"red\", alpha=0.6)\n",
    "plt.hist(scores, alpha=0.6)"
   ]
  },
  {
   "cell_type": "markdown",
   "metadata": {},
   "source": []
  },
  {
   "cell_type": "code",
   "execution_count": 4,
   "metadata": {},
   "outputs": [],
   "source": [
    "data = pd.read_csv(\"../data/input_original.csv\")"
   ]
  },
  {
   "cell_type": "code",
   "execution_count": 19,
   "metadata": {},
   "outputs": [],
   "source": [
    "import numpy as np\n",
    "peptides = data[\"peptide\"].unique()\n",
    "\n",
    "with(open(\"peptides.txt\", \"w\") as file):\n",
    "    for peptide in peptides:\n",
    "        file.write(peptide + \"\\n\")"
   ]
  },
  {
   "cell_type": "code",
   "execution_count": null,
   "metadata": {},
   "outputs": [],
   "source": [
    "TCRs = data[\"CDR3b\"].unique()\n",
    "\n",
    "with(open(\"TCRs.txt\", \"w\") as file):\n",
    "    for TCR in TCRs:\n",
    "        file.write(TCR + \"\\n\")"
   ]
  },
  {
   "cell_type": "code",
   "execution_count": 1,
   "metadata": {},
   "outputs": [
    {
     "data": {
      "text/plain": [
       "(array([   7.,   31.,   99.,  428., 1816., 2732.,  835.,  138.,   40.,\n",
       "          20.]),\n",
       " array([-10.7442131 ,  -8.74170794,  -6.73920279,  -4.73669763,\n",
       "         -2.73419247,  -0.73168731,   1.27081785,   3.27332301,\n",
       "          5.27582817,   7.27833333,   9.28083849]),\n",
       " <BarContainer object of 10 artists>)"
      ]
     },
     "execution_count": 1,
     "metadata": {},
     "output_type": "execute_result"
    },
    {
     "data": {
      "image/png": "[encoded data removed]",
      "text/plain": [
       "<Figure size 432x288 with 1 Axes>"
      ]
     },
     "metadata": {
      "needs_background": "light"
     },
     "output_type": "display_data"
    }
   ],
   "source": [
    "import matplotlib.pyplot as plt\n",
    "import pandas as pd\n",
    "\n",
    "output = pd.read_csv(\"../output/output_original-20240317-114017.csv\")\n",
    "\n",
    "mi_scores_a = output[\"mi_scores_a\"]\n",
    "mi_scores_b = output[\"mi_scores_b\"]\n",
    "plt.hist(mi_scores_a)"
   ]
  },
  {
   "cell_type": "code",
   "execution_count": 2,
   "metadata": {},
   "outputs": [
    {
     "data": {
      "text/plain": [
       "(array([2.000e+00, 3.000e+00, 7.000e+00, 5.400e+01, 3.620e+02, 2.437e+03,\n",
       "        2.691e+03, 4.420e+02, 1.250e+02, 2.300e+01]),\n",
       " array([-17.66898727, -14.8139689 , -11.95895052,  -9.10393214,\n",
       "         -6.24891376,  -3.39389539,  -0.53887701,   2.31614137,\n",
       "          5.17115974,   8.02617812,  10.8811965 ]),\n",
       " <BarContainer object of 10 artists>)"
      ]
     },
     "execution_count": 2,
     "metadata": {},
     "output_type": "execute_result"
    },
    {
     "data": {
      "image/png": "[encoded data removed]",
      "text/plain": [
       "<Figure size 432x288 with 1 Axes>"
      ]
     },
     "metadata": {
      "needs_background": "light"
     },
     "output_type": "display_data"
    }
   ],
   "source": [
    "plt.hist(mi_scores_b)"
   ]
  },
  {
   "cell_type": "code",
   "execution_count": 14,
   "metadata": {},
   "outputs": [
    {
     "data": {
      "text/plain": [
       "(array([6.127e+03, 9.000e+00, 3.000e+00, 1.000e+00, 1.000e+00, 1.000e+00,\n",
       "        1.000e+00, 2.000e+00, 0.000e+00, 1.000e+00]),\n",
       " array([2.12058813e-08, 5.31671763e+03, 1.06334353e+04, 1.59501529e+04,\n",
       "        2.12668705e+04, 2.65835882e+04, 3.19003058e+04, 3.72170234e+04,\n",
       "        4.25337411e+04, 4.78504587e+04, 5.31671763e+04]),\n",
       " <BarContainer object of 10 artists>)"
      ]
     },
     "execution_count": 14,
     "metadata": {},
     "output_type": "execute_result"
    },
    {
     "data": {
      "image/png": "[encoded data removed]",
      "text/plain": [
       "<Figure size 432x288 with 1 Axes>"
      ]
     },
     "metadata": {
      "needs_background": "light"
     },
     "output_type": "display_data"
    }
   ],
   "source": [
    "import numpy as np\n",
    "\n",
    "const = 1\n",
    "\n",
    "probs = const * np.exp(mi_scores_b)\n",
    "\n",
    "under_1 = [score for score in probs if score <= 1]\n",
    "over_1 = [score for score in probs if score > 1]\n",
    "over_10 = [score for score in probs if score > 10]\n",
    "over_100 = [score for score in probs if score > 100]\n",
    "\n",
    "\n",
    "\n",
    "plt.hist(const * np.exp(mi_scores_b))"
   ]
  },
  {
   "cell_type": "code",
   "execution_count": 10,
   "metadata": {},
   "outputs": [
    {
     "data": {
      "text/plain": [
       "(array([896., 616., 564., 345., 229., 247., 240., 220., 201., 182.]),\n",
       " array([2.12058813e-08, 9.99632140e-02, 1.99926407e-01, 2.99889600e-01,\n",
       "        3.99852793e-01, 4.99815985e-01, 5.99779178e-01, 6.99742371e-01,\n",
       "        7.99705564e-01, 8.99668757e-01, 9.99631949e-01]),\n",
       " <BarContainer object of 10 artists>)"
      ]
     },
     "execution_count": 10,
     "metadata": {},
     "output_type": "execute_result"
    },
    {
     "data": {
      "image/png": "[encoded data removed]",
      "text/plain": [
       "<Figure size 432x288 with 1 Axes>"
      ]
     },
     "metadata": {
      "needs_background": "light"
     },
     "output_type": "display_data"
    }
   ],
   "source": [
    "plt.hist(under_1)\n"
   ]
  },
  {
   "cell_type": "code",
   "execution_count": 11,
   "metadata": {},
   "outputs": [
    {
     "data": {
      "text/plain": [
       "(array([2.387e+03, 9.000e+00, 3.000e+00, 1.000e+00, 1.000e+00, 1.000e+00,\n",
       "        1.000e+00, 2.000e+00, 0.000e+00, 1.000e+00]),\n",
       " array([1.00097799e+00, 5.31761851e+03, 1.06342361e+04, 1.59508536e+04,\n",
       "        2.12674711e+04, 2.65840887e+04, 3.19007062e+04, 3.72173237e+04,\n",
       "        4.25339413e+04, 4.78505588e+04, 5.31671763e+04]),\n",
       " <BarContainer object of 10 artists>)"
      ]
     },
     "execution_count": 11,
     "metadata": {},
     "output_type": "execute_result"
    },
    {
     "data": {
      "image/png": "[encoded data removed]",
      "text/plain": [
       "<Figure size 432x288 with 1 Axes>"
      ]
     },
     "metadata": {
      "needs_background": "light"
     },
     "output_type": "display_data"
    }
   ],
   "source": [
    "plt.hist(over_1)"
   ]
  },
  {
   "cell_type": "code",
   "execution_count": 13,
   "metadata": {},
   "outputs": [
    {
     "data": {
      "text/plain": [
       "(array([577.,   9.,   3.,   1.,   1.,   1.,   1.,   2.,   0.,   1.]),\n",
       " array([1.00621673e+01, 5.32577358e+03, 1.06414850e+04, 1.59571964e+04,\n",
       "        2.12729078e+04, 2.65886193e+04, 3.19043307e+04, 3.72200421e+04,\n",
       "        4.25357535e+04, 4.78514649e+04, 5.31671763e+04]),\n",
       " <BarContainer object of 10 artists>)"
      ]
     },
     "execution_count": 13,
     "metadata": {},
     "output_type": "execute_result"
    },
    {
     "data": {
      "image/png": "[encoded data removed]",
      "text/plain": [
       "<Figure size 432x288 with 1 Axes>"
      ]
     },
     "metadata": {
      "needs_background": "light"
     },
     "output_type": "display_data"
    }
   ],
   "source": [
    "plt.hist(over_10)"
   ]
  },
  {
   "cell_type": "code",
   "execution_count": 15,
   "metadata": {},
   "outputs": [
    {
     "data": {
      "text/plain": [
       "(array([182.,   9.,   3.,   1.,   1.,   1.,   2.,   1.,   0.,   1.]),\n",
       " array([  100.36784591,  5407.04869556, 10713.72954521, 16020.41039486,\n",
       "        21327.09124451, 26633.77209416, 31940.45294382, 37247.13379347,\n",
       "        42553.81464312, 47860.49549277, 53167.17634242]),\n",
       " <BarContainer object of 10 artists>)"
      ]
     },
     "execution_count": 15,
     "metadata": {},
     "output_type": "execute_result"
    },
    {
     "data": {
      "image/png": "[encoded data removed]",
      "text/plain": [
       "<Figure size 432x288 with 1 Axes>"
      ]
     },
     "metadata": {
      "needs_background": "light"
     },
     "output_type": "display_data"
    }
   ],
   "source": [
    "plt.hist(over_100)"
   ]
  },
  {
   "cell_type": "code",
   "execution_count": 16,
   "metadata": {},
   "outputs": [
    {
     "data": {
      "text/plain": [
       "53167.176342423525"
      ]
     },
     "execution_count": 16,
     "metadata": {},
     "output_type": "execute_result"
    }
   ],
   "source": [
    "max(over_100)"
   ]
  },
  {
   "cell_type": "code",
   "execution_count": 18,
   "metadata": {},
   "outputs": [
    {
     "data": {
      "text/plain": [
       "(array([6.127e+03, 9.000e+00, 3.000e+00, 1.000e+00, 1.000e+00, 1.000e+00,\n",
       "        1.000e+00, 2.000e+00, 0.000e+00, 1.000e+00]),\n",
       " array([3.98852878e-13, 1.00000000e-01, 2.00000000e-01, 3.00000000e-01,\n",
       "        4.00000000e-01, 5.00000000e-01, 6.00000000e-01, 7.00000000e-01,\n",
       "        8.00000000e-01, 9.00000000e-01, 1.00000000e+00]),\n",
       " <BarContainer object of 10 artists>)"
      ]
     },
     "execution_count": 18,
     "metadata": {},
     "output_type": "execute_result"
    },
    {
     "data": {
      "image/png": "[encoded data removed]",
      "text/plain": [
       "<Figure size 432x288 with 1 Axes>"
      ]
     },
     "metadata": {
      "needs_background": "light"
     },
     "output_type": "display_data"
    }
   ],
   "source": [
    "import numpy as np\n",
    "\n",
    "const = 1 / max(probs)\n",
    "\n",
    "adjusted_probs = const * np.exp(mi_scores_b)\n",
    "\n",
    "plt.hist(adjusted_probs)\n"
   ]
  },
  {
   "cell_type": "code",
   "execution_count": 22,
   "metadata": {},
   "outputs": [
    {
     "data": {
      "text/plain": [
       "(array([62.,  9.,  3.,  1.,  1.,  1.,  2.,  1.,  0.,  1.]),\n",
       " array([0.01003081, 0.10902773, 0.20802465, 0.30702157, 0.40601848,\n",
       "        0.5050154 , 0.60401232, 0.70300924, 0.80200616, 0.90100308,\n",
       "        1.        ]),\n",
       " <BarContainer object of 10 artists>)"
      ]
     },
     "execution_count": 22,
     "metadata": {},
     "output_type": "execute_result"
    },
    {
     "data": {
      "image/png": "[encoded data removed]",
      "text/plain": [
       "<Figure size 432x288 with 1 Axes>"
      ]
     },
     "metadata": {
      "needs_background": "light"
     },
     "output_type": "display_data"
    }
   ],
   "source": [
    "def get_probs_over_k(probs, k):\n",
    "    return [prob for prob in probs if prob > k]\n",
    "\n",
    "plt.hist(get_probs_over_k(adjusted_probs, 0.01))\n"
   ]
  },
  {
   "cell_type": "code",
   "execution_count": 23,
   "metadata": {},
   "outputs": [
    {
     "data": {
      "text/plain": [
       "(array([9., 3., 1., 1., 1., 1., 1., 1., 0., 1.]),\n",
       " array([0.1129597 , 0.20166373, 0.29036776, 0.37907179, 0.46777582,\n",
       "        0.55647985, 0.64518388, 0.73388791, 0.82259194, 0.91129597,\n",
       "        1.        ]),\n",
       " <BarContainer object of 10 artists>)"
      ]
     },
     "execution_count": 23,
     "metadata": {},
     "output_type": "execute_result"
    },
    {
     "data": {
      "image/png": "[encoded data removed]",
      "text/plain": [
       "<Figure size 432x288 with 1 Axes>"
      ]
     },
     "metadata": {
      "needs_background": "light"
     },
     "output_type": "display_data"
    }
   ],
   "source": [
    "plt.hist(get_probs_over_k(adjusted_probs, 0.1))"
   ]
  },
  {
   "cell_type": "code",
   "execution_count": 24,
   "metadata": {},
   "outputs": [
    {
     "data": {
      "text/plain": [
       "(array([3., 1., 1., 1., 1., 0., 2., 0., 0., 1.]),\n",
       " array([0.24733366, 0.32260029, 0.39786693, 0.47313356, 0.5484002 ,\n",
       "        0.62366683, 0.69893346, 0.7742001 , 0.84946673, 0.92473337,\n",
       "        1.        ]),\n",
       " <BarContainer object of 10 artists>)"
      ]
     },
     "execution_count": 24,
     "metadata": {},
     "output_type": "execute_result"
    },
    {
     "data": {
      "image/png": "[encoded data removed]",
      "text/plain": [
       "<Figure size 432x288 with 1 Axes>"
      ]
     },
     "metadata": {
      "needs_background": "light"
     },
     "output_type": "display_data"
    }
   ],
   "source": [
    "plt.hist(get_probs_over_k(adjusted_probs, 0.2))"
   ]
  },
  {
   "cell_type": "code",
   "execution_count": 31,
   "metadata": {},
   "outputs": [
    {
     "data": {
      "text/plain": [
       "(array([ 11.,  99., 301., 784., 731., 120.,  80.,  89.,  51.,   9.]),\n",
       " array([-6.88866043, -5.29490995, -3.70115948, -2.107409  , -0.51365852,\n",
       "         1.08009195,  2.67384243,  4.26759291,  5.86134338,  7.45509386,\n",
       "         9.04884434]),\n",
       " <BarContainer object of 10 artists>)"
      ]
     },
     "execution_count": 31,
     "metadata": {},
     "output_type": "execute_result"
    },
    {
     "data": {
      "image/png": "[encoded data removed]",
      "text/plain": [
       "<Figure size 432x288 with 1 Axes>"
      ]
     },
     "metadata": {
      "needs_background": "light"
     },
     "output_type": "display_data"
    }
   ],
   "source": [
    "GILGFVFTL_mi_scores = output.loc[output[\"peptide\"] == \"GILGFVFTL\"][\"mi_scores_b\"]\n",
    "plt.hist(GILGFVFTL_mi_scores)"
   ]
  },
  {
   "cell_type": "code",
   "execution_count": 37,
   "metadata": {},
   "outputs": [
    {
     "name": "stdout",
     "output_type": "stream",
     "text": [
      "8508.699055724011\n"
     ]
    },
    {
     "data": {
      "text/plain": [
       "(array([114.,  16.,   5.,   2.,   1.,   0.,   0.,   0.,   0.,   1.]),\n",
       " array([0.0100879 , 0.10907911, 0.20807032, 0.30706153, 0.40605274,\n",
       "        0.50504395, 0.60403516, 0.70302637, 0.80201758, 0.90100879,\n",
       "        1.        ]),\n",
       " <BarContainer object of 10 artists>)"
      ]
     },
     "execution_count": 37,
     "metadata": {},
     "output_type": "execute_result"
    },
    {
     "data": {
      "image/png": "[encoded data removed]",
      "text/plain": [
       "<Figure size 432x288 with 1 Axes>"
      ]
     },
     "metadata": {
      "needs_background": "light"
     },
     "output_type": "display_data"
    }
   ],
   "source": [
    "def get_normalised_probs_from_epitope(peptide):\n",
    "    mi_scores = output.loc[output[\"peptide\"] == peptide][\"mi_scores_b\"]\n",
    "    probs = np.exp(mi_scores)\n",
    "    print(max(probs))\n",
    "    probs = probs / max(probs)\n",
    "    return probs\n",
    "\n",
    "GILGFVFTL_normalised = get_normalised_probs_from_epitope(\"GILGFVFTL\")\n",
    "plt.hist(get_probs_over_k(GILGFVFTL_normalised, 0.01))"
   ]
  },
  {
   "cell_type": "code",
   "execution_count": 44,
   "metadata": {},
   "outputs": [
    {
     "name": "stdout",
     "output_type": "stream",
     "text": [
      "37227.78950268781\n"
     ]
    },
    {
     "data": {
      "text/plain": [
       "(array([503.,   0.,   0.,   0.,   0.,   0.,   0.,   0.,   0.,   1.]),\n",
       " array([1.92686625e-08, 1.00000017e-01, 2.00000015e-01, 3.00000013e-01,\n",
       "        4.00000012e-01, 5.00000010e-01, 6.00000008e-01, 7.00000006e-01,\n",
       "        8.00000004e-01, 9.00000002e-01, 1.00000000e+00]),\n",
       " <BarContainer object of 10 artists>)"
      ]
     },
     "execution_count": 44,
     "metadata": {},
     "output_type": "execute_result"
    },
    {
     "data": {
      "image/png": "[encoded data removed]",
      "text/plain": [
       "<Figure size 432x288 with 1 Axes>"
      ]
     },
     "metadata": {
      "needs_background": "light"
     },
     "output_type": "display_data"
    }
   ],
   "source": [
    "NLV_normalised = get_normalised_probs_from_epitope(\"NLVPMVATV\")\n",
    "plt.hist(NLV_normalised)"
   ]
  },
  {
   "cell_type": "code",
   "execution_count": 46,
   "metadata": {},
   "outputs": [
    {
     "data": {
      "text/plain": [
       "[1.0]"
      ]
     },
     "execution_count": 46,
     "metadata": {},
     "output_type": "execute_result"
    }
   ],
   "source": [
    "get_probs_over_k(NLV_normalised, 0.1)"
   ]
  },
  {
   "cell_type": "markdown",
   "metadata": {},
   "source": [
    "So indeed, the constants we'd need to divide by to get into the range $[0,1]$ differs based on the epitope (but we could also take a sensible upper bound?)"
   ]
  },
  {
   "cell_type": "code",
   "execution_count": 3,
   "metadata": {},
   "outputs": [
    {
     "data": {
      "text/plain": [
       "(array([5268.,    0.,    0.,    0.,    0.,    0.,    0.,    0.,    0.,\n",
       "         878.]),\n",
       " array([0. , 0.1, 0.2, 0.3, 0.4, 0.5, 0.6, 0.7, 0.8, 0.9, 1. ]),\n",
       " <BarContainer object of 10 artists>)"
      ]
     },
     "execution_count": 3,
     "metadata": {},
     "output_type": "execute_result"
    },
    {
     "data": {
      "image/png": "[encoded data removed]",
      "text/plain": [
       "<Figure size 432x288 with 1 Axes>"
      ]
     },
     "metadata": {
      "needs_background": "light"
     },
     "output_type": "display_data"
    }
   ],
   "source": [
    "plt.hist(output[\"binder\"])"
   ]
  }
 ],
 "metadata": {
  "kernelspec": {
   "display_name": "Python 3",
   "language": "python",
   "name": "python3"
  },
  "language_info": {
   "codemirror_mode": {
    "name": "ipython",
    "version": 3
   },
   "file_extension": ".py",
   "mimetype": "text/x-python",
   "name": "python",
   "nbconvert_exporter": "python",
   "pygments_lexer": "ipython3",
   "version": "3.10.2"
  }
 },
 "nbformat": 4,
 "nbformat_minor": 2
}
