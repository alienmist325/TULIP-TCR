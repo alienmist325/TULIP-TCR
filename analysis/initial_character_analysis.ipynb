{
 "cells": [
  {
   "cell_type": "code",
   "execution_count": null,
   "metadata": {},
   "outputs": [],
   "source": [
    "import pandas as pd\n",
    "\n",
    "output = pd.read_csv(\"../output/output-20240122-152625.csv\")"
   ]
  },
  {
   "cell_type": "code",
   "execution_count": null,
   "metadata": {},
   "outputs": [],
   "source": [
    "# Want set of lengths of each column\n",
    "output"
   ]
  },
  {
   "cell_type": "code",
   "execution_count": null,
   "metadata": {},
   "outputs": [],
   "source": [
    "def get_lengths_of_sequence_type(column_name):\n",
    "    return output[column_name].apply(lambda x : len(x)).drop_duplicates()"
   ]
  },
  {
   "cell_type": "code",
   "execution_count": null,
   "metadata": {},
   "outputs": [],
   "source": [
    "def get_character_set(column_name):\n",
    "    character_dict = {}\n",
    "\n",
    "    output[column_name].apply(lambda x : add_chars_to_dict(x, character_dict)).drop_duplicates()\n",
    "\n",
    "    return character_dict\n",
    "\n",
    "def add_chars_to_dict(string, dict):\n",
    "    for c in string:\n",
    "        if c in dict.keys():\n",
    "            dict[c] += 1\n",
    "        else:\n",
    "            dict[c] = 1 "
   ]
  },
  {
   "cell_type": "code",
   "execution_count": null,
   "metadata": {},
   "outputs": [],
   "source": [
    "charset = list(get_character_set(\"peptide\").keys())\n",
    "charset.sort()\n",
    "charset"
   ]
  },
  {
   "cell_type": "markdown",
   "metadata": {},
   "source": [
    "The characters are everything bar $B, J, O, U, X, Z$, which agrees with online!"
   ]
  },
  {
   "cell_type": "code",
   "execution_count": null,
   "metadata": {},
   "outputs": [],
   "source": [
    "types = [\"peptide\", \"CDR3a\", \"CDR3b\"]\n",
    "for type in types:\n",
    "    print(get_lengths_of_sequence_type(type))"
   ]
  },
  {
   "cell_type": "markdown",
   "metadata": {},
   "source": [
    "So then:\n",
    "\n",
    "peptide has length $9< l < 10$\n",
    "\n",
    "CDR3a has length $9< l < 20$\n",
    "\n",
    "CDR3b has length $8< l < 20$"
   ]
  }
 ],
 "metadata": {
  "language_info": {
   "name": "python"
  }
 },
 "nbformat": 4,
 "nbformat_minor": 2
}
