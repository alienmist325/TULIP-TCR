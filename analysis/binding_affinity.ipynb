{
 "cells": [
  {
   "cell_type": "markdown",
   "metadata": {},
   "source": [
    "We're going to do this from scratch again, since the model has changed massively since."
   ]
  },
  {
   "cell_type": "code",
   "execution_count": 4,
   "metadata": {},
   "outputs": [],
   "source": [
    "import pandas as pd\n",
    "output = pd.read_csv(\"../output/output_original-20240218-165024.csv\")\n",
    "scores = output[\"score\"]\n",
    "\n",
    "import matplotlib.pyplot as plt"
   ]
  },
  {
   "cell_type": "code",
   "execution_count": 83,
   "metadata": {},
   "outputs": [],
   "source": [
    "import numpy as np\n",
    "\n",
    "s_losses = scores\n",
    "\n",
    "exp_losses = np.exp(s_losses)"
   ]
  },
  {
   "cell_type": "code",
   "execution_count": 6,
   "metadata": {},
   "outputs": [],
   "source": [
    "N = 1/sum(exp_losses)"
   ]
  },
  {
   "cell_type": "code",
   "execution_count": 7,
   "metadata": {},
   "outputs": [],
   "source": [
    "tulip_probs = N * exp_losses"
   ]
  },
  {
   "cell_type": "code",
   "execution_count": 8,
   "metadata": {},
   "outputs": [
    {
     "data": {
      "text/plain": [
       "(array([4586.,  766.,  223.,   42.,   58.,   37.,   17.,   20.,   38.,\n",
       "         359.]),\n",
       " array([4.21071969e-29, 1.41390541e-04, 2.82781083e-04, 4.24171624e-04,\n",
       "        5.65562166e-04, 7.06952707e-04, 8.48343249e-04, 9.89733790e-04,\n",
       "        1.13112433e-03, 1.27251487e-03, 1.41390541e-03]),\n",
       " <BarContainer object of 10 artists>)"
      ]
     },
     "execution_count": 8,
     "metadata": {},
     "output_type": "execute_result"
    },
    {
     "data": {
      "image/png": "[encoded data removed]",
      "text/plain": [
       "<Figure size 432x288 with 1 Axes>"
      ]
     },
     "metadata": {
      "needs_background": "light"
     },
     "output_type": "display_data"
    }
   ],
   "source": [
    "plt.hist(tulip_probs)"
   ]
  },
  {
   "cell_type": "code",
   "execution_count": 9,
   "metadata": {},
   "outputs": [
    {
     "data": {
      "text/plain": [
       "4.210719685866842e-29"
      ]
     },
     "execution_count": 9,
     "metadata": {},
     "output_type": "execute_result"
    }
   ],
   "source": [
    "min(tulip_probs)"
   ]
  },
  {
   "cell_type": "markdown",
   "metadata": {},
   "source": [
    "Alternative approach: fit maximum to be 1"
   ]
  },
  {
   "cell_type": "code",
   "execution_count": 10,
   "metadata": {},
   "outputs": [],
   "source": [
    "M = 1/ max(tulip_probs)"
   ]
  },
  {
   "cell_type": "code",
   "execution_count": 11,
   "metadata": {},
   "outputs": [],
   "source": [
    "alt_tulip_probs = M * tulip_probs"
   ]
  },
  {
   "cell_type": "code",
   "execution_count": 12,
   "metadata": {},
   "outputs": [
    {
     "data": {
      "text/plain": [
       "(array([4586.,  766.,  223.,   42.,   58.,   37.,   17.,   20.,   38.,\n",
       "         359.]),\n",
       " array([2.97807735e-26, 1.00000000e-01, 2.00000000e-01, 3.00000000e-01,\n",
       "        4.00000000e-01, 5.00000000e-01, 6.00000000e-01, 7.00000000e-01,\n",
       "        8.00000000e-01, 9.00000000e-01, 1.00000000e+00]),\n",
       " <BarContainer object of 10 artists>)"
      ]
     },
     "execution_count": 12,
     "metadata": {},
     "output_type": "execute_result"
    },
    {
     "data": {
      "image/png": "[encoded data removed]",
      "text/plain": [
       "<Figure size 432x288 with 1 Axes>"
      ]
     },
     "metadata": {
      "needs_background": "light"
     },
     "output_type": "display_data"
    }
   ],
   "source": [
    "plt.hist(alt_tulip_probs)"
   ]
  },
  {
   "cell_type": "code",
   "execution_count": 13,
   "metadata": {},
   "outputs": [],
   "source": [
    "pminus = min(alt_tulip_probs)"
   ]
  },
  {
   "cell_type": "code",
   "execution_count": 14,
   "metadata": {},
   "outputs": [],
   "source": [
    "pplus = max(alt_tulip_probs)"
   ]
  },
  {
   "cell_type": "code",
   "execution_count": 15,
   "metadata": {},
   "outputs": [],
   "source": [
    "def fit_params(kplus, kminus, pplus, pminus):\n",
    "    \"\"\"\n",
    "    Returns the correct eta_tilde and eta for our model construction\n",
    "    \"\"\"\n",
    "\n",
    "    eta = - (np.log(kplus) - np.log(kminus))/(np.log(pplus) - np.log(pminus))\n",
    "    eta_tilde = kplus / (np.power(pplus, -eta))\n",
    "    print(eta_tilde)\n",
    "    eta_tilde = kminus / (np.power(pminus, -eta))\n",
    "    print(eta_tilde)\n",
    "    return eta, eta_tilde\n",
    "\n",
    "def get_Kd_from_tulip_probs(tulip_probs, eta, eta_tilde):\n",
    "    return eta_tilde * np.power(tulip_probs, -eta)\n"
   ]
  },
  {
   "cell_type": "code",
   "execution_count": 16,
   "metadata": {},
   "outputs": [
    {
     "data": {
      "text/plain": [
       "1.0"
      ]
     },
     "execution_count": 16,
     "metadata": {},
     "output_type": "execute_result"
    }
   ],
   "source": [
    "np.log(np.e)"
   ]
  },
  {
   "cell_type": "code",
   "execution_count": 17,
   "metadata": {},
   "outputs": [
    {
     "name": "stdout",
     "output_type": "stream",
     "text": [
      "1.0\n",
      "1.0\n"
     ]
    },
    {
     "data": {
      "text/plain": [
       "(-1.0, 1.0)"
      ]
     },
     "execution_count": 17,
     "metadata": {},
     "output_type": "execute_result"
    }
   ],
   "source": [
    "fit_params(2,1,2,1)"
   ]
  },
  {
   "cell_type": "code",
   "execution_count": 18,
   "metadata": {},
   "outputs": [
    {
     "name": "stdout",
     "output_type": "stream",
     "text": [
      "21.4\n",
      "21.400000000000016\n"
     ]
    }
   ],
   "source": [
    "eta, eta_tilde = fit_params(21.4, 0.015, pplus, pminus)"
   ]
  },
  {
   "cell_type": "code",
   "execution_count": 19,
   "metadata": {},
   "outputs": [
    {
     "data": {
      "text/plain": [
       "0.015"
      ]
     },
     "execution_count": 19,
     "metadata": {},
     "output_type": "execute_result"
    }
   ],
   "source": [
    "get_Kd_from_tulip_probs(pminus,eta, eta_tilde)"
   ]
  },
  {
   "cell_type": "code",
   "execution_count": 20,
   "metadata": {},
   "outputs": [
    {
     "data": {
      "text/plain": [
       "(-0.12357261624691045, 21.400000000000016)"
      ]
     },
     "execution_count": 20,
     "metadata": {},
     "output_type": "execute_result"
    }
   ],
   "source": [
    "eta, eta_tilde"
   ]
  },
  {
   "cell_type": "code",
   "execution_count": 21,
   "metadata": {},
   "outputs": [],
   "source": [
    "Kds = get_Kd_from_tulip_probs(alt_tulip_probs, eta, eta_tilde)"
   ]
  },
  {
   "cell_type": "code",
   "execution_count": 22,
   "metadata": {},
   "outputs": [
    {
     "data": {
      "text/plain": [
       "(array([ 687.,  281.,  549.,  674.,  529.,  534.,  791., 1147.,  436.,\n",
       "         518.]),\n",
       " array([1.50000e-02, 2.15350e+00, 4.29200e+00, 6.43050e+00, 8.56900e+00,\n",
       "        1.07075e+01, 1.28460e+01, 1.49845e+01, 1.71230e+01, 1.92615e+01,\n",
       "        2.14000e+01]),\n",
       " <BarContainer object of 10 artists>)"
      ]
     },
     "execution_count": 22,
     "metadata": {},
     "output_type": "execute_result"
    },
    {
     "data": {
      "image/png": "[encoded data removed]",
      "text/plain": [
       "<Figure size 432x288 with 1 Axes>"
      ]
     },
     "metadata": {
      "needs_background": "light"
     },
     "output_type": "display_data"
    }
   ],
   "source": [
    "plt.hist(Kds)"
   ]
  },
  {
   "cell_type": "code",
   "execution_count": 23,
   "metadata": {},
   "outputs": [],
   "source": [
    "def get_pbind_from_Kd(Kds, T_conc):\n",
    "    return 1/(1+ (Kds/T_conc))\n",
    "\n",
    "def get_pbind_from_tulip_probs(tulip_probs, eta, eta_tilde, T_conc):\n",
    "    Kds = get_Kd_from_tulip_probs(tulip_probs, eta, eta_tilde)\n",
    "    return get_pbind_from_Kd(Kds, T_conc)"
   ]
  },
  {
   "cell_type": "markdown",
   "metadata": {},
   "source": [
    "Varying the free parameter for P_bind"
   ]
  },
  {
   "cell_type": "code",
   "execution_count": 24,
   "metadata": {},
   "outputs": [
    {
     "data": {
      "text/plain": [
       "(array([4719.,  566.,  184.,  142.,   79.,   75.,   81.,  112.,  113.,\n",
       "          75.]),\n",
       " array([0.04464286, 0.13870074, 0.23275862, 0.3268165 , 0.42087438,\n",
       "        0.51493227, 0.60899015, 0.70304803, 0.79710591, 0.89116379,\n",
       "        0.98522167]),\n",
       " <BarContainer object of 10 artists>)"
      ]
     },
     "execution_count": 24,
     "metadata": {},
     "output_type": "execute_result"
    },
    {
     "data": {
      "image/png": "[encoded data removed]",
      "text/plain": [
       "<Figure size 432x288 with 1 Axes>"
      ]
     },
     "metadata": {
      "needs_background": "light"
     },
     "output_type": "display_data"
    }
   ],
   "source": [
    "pbinds = get_pbind_from_Kd(Kds, 1)\n",
    "plt.hist(pbinds)"
   ]
  },
  {
   "cell_type": "code",
   "execution_count": 25,
   "metadata": {},
   "outputs": [
    {
     "data": {
      "text/plain": [
       "(array([ 518.,  439., 1148.,  792.,  530.,  538.,  667.,  548.,  281.,\n",
       "         685.]),\n",
       " array([0.99786457, 0.99807796, 0.99829136, 0.99850475, 0.99871814,\n",
       "        0.99893153, 0.99914493, 0.99935832, 0.99957171, 0.99978511,\n",
       "        0.9999985 ]),\n",
       " <BarContainer object of 10 artists>)"
      ]
     },
     "execution_count": 25,
     "metadata": {},
     "output_type": "execute_result"
    },
    {
     "data": {
      "image/png": "[encoded data removed]",
      "text/plain": [
       "<Figure size 432x288 with 1 Axes>"
      ]
     },
     "metadata": {
      "needs_background": "light"
     },
     "output_type": "display_data"
    }
   ],
   "source": [
    "pbinds = get_pbind_from_Kd(Kds, 10000)\n",
    "plt.hist(pbinds)"
   ]
  },
  {
   "cell_type": "code",
   "execution_count": 26,
   "metadata": {},
   "outputs": [
    {
     "data": {
      "text/plain": [
       "(array([6.042e+03, 6.600e+01, 1.900e+01, 6.000e+00, 9.000e+00, 2.000e+00,\n",
       "        0.000e+00, 1.000e+00, 0.000e+00, 1.000e+00]),\n",
       " array([4.67289698e-08, 6.70827832e-06, 1.33698277e-05, 2.00313770e-05,\n",
       "        2.66929264e-05, 3.33544757e-05, 4.00160251e-05, 4.66775745e-05,\n",
       "        5.33391238e-05, 6.00006732e-05, 6.66622225e-05]),\n",
       " <BarContainer object of 10 artists>)"
      ]
     },
     "execution_count": 26,
     "metadata": {},
     "output_type": "execute_result"
    },
    {
     "data": {
      "image/png": "[encoded data removed]",
      "text/plain": [
       "<Figure size 432x288 with 1 Axes>"
      ]
     },
     "metadata": {
      "needs_background": "light"
     },
     "output_type": "display_data"
    }
   ],
   "source": [
    "pbinds = get_pbind_from_Kd(Kds, 0.000001)\n",
    "plt.hist(pbinds)"
   ]
  },
  {
   "cell_type": "code",
   "execution_count": 27,
   "metadata": {},
   "outputs": [
    {
     "data": {
      "text/plain": [
       "(array([1702., 1381.,  708.,  665.,  581.,  195.,  151.,  178.,  172.,\n",
       "         413.]),\n",
       " array([0.31847134, 0.38647443, 0.45447752, 0.52248061, 0.5904837 ,\n",
       "        0.65848679, 0.72648988, 0.79449297, 0.86249606, 0.93049916,\n",
       "        0.99850225]),\n",
       " <BarContainer object of 10 artists>)"
      ]
     },
     "execution_count": 27,
     "metadata": {},
     "output_type": "execute_result"
    },
    {
     "data": {
      "image/png": "[encoded data removed]",
      "text/plain": [
       "<Figure size 432x288 with 1 Axes>"
      ]
     },
     "metadata": {
      "needs_background": "light"
     },
     "output_type": "display_data"
    }
   ],
   "source": [
    "pbinds = get_pbind_from_Kd(Kds, 10)\n",
    "plt.hist(pbinds)"
   ]
  },
  {
   "cell_type": "code",
   "execution_count": 28,
   "metadata": {},
   "outputs": [
    {
     "data": {
      "text/plain": [
       "(array([3732., 1233.,  282.,  154.,  140.,  102.,   86.,   96.,  156.,\n",
       "         165.]),\n",
       " array([0.08547009, 0.17617866, 0.26688723, 0.35759581, 0.44830438,\n",
       "        0.53901296, 0.62972153, 0.72043011, 0.81113868, 0.90184726,\n",
       "        0.99255583]),\n",
       " <BarContainer object of 10 artists>)"
      ]
     },
     "execution_count": 28,
     "metadata": {},
     "output_type": "execute_result"
    },
    {
     "data": {
      "image/png": "[encoded data removed]",
      "text/plain": [
       "<Figure size 432x288 with 1 Axes>"
      ]
     },
     "metadata": {
      "needs_background": "light"
     },
     "output_type": "display_data"
    }
   ],
   "source": [
    "pbinds = get_pbind_from_Kd(Kds, 2)\n",
    "plt.hist(pbinds)"
   ]
  },
  {
   "cell_type": "markdown",
   "metadata": {},
   "source": [
    "1 or 2 seems reasonable here."
   ]
  },
  {
   "cell_type": "markdown",
   "metadata": {},
   "source": [
    "We don't need to fit $N$, so let us repeat the process, but with the unmodified tulip \"probs\""
   ]
  },
  {
   "cell_type": "code",
   "execution_count": 100,
   "metadata": {},
   "outputs": [
    {
     "data": {
      "text/plain": [
       "(array([4586.,  766.,  223.,   42.,   58.,   37.,   17.,   20.,   38.,\n",
       "         359.]),\n",
       " array([2.97668688e-26, 9.99533100e-02, 1.99906620e-01, 2.99859930e-01,\n",
       "        3.99813240e-01, 4.99766550e-01, 5.99719860e-01, 6.99673170e-01,\n",
       "        7.99626480e-01, 8.99579790e-01, 9.99533100e-01]),\n",
       " <BarContainer object of 10 artists>)"
      ]
     },
     "execution_count": 100,
     "metadata": {},
     "output_type": "execute_result"
    },
    {
     "data": {
      "image/png": "[encoded data removed]",
      "text/plain": [
       "<Figure size 432x288 with 1 Axes>"
      ]
     },
     "metadata": {
      "needs_background": "light"
     },
     "output_type": "display_data"
    }
   ],
   "source": [
    "from binding_affinity_derivation import fit_params_and_get_pbind_from_tulip_probs\n",
    "\n",
    "tulip_probs = np.exp(s_losses)\n",
    "\n",
    "plt.hist(tulip_probs)"
   ]
  },
  {
   "cell_type": "code",
   "execution_count": 101,
   "metadata": {},
   "outputs": [
    {
     "name": "stdout",
     "output_type": "stream",
     "text": [
      "21.401235018289388\n",
      "21.40123501828941\n"
     ]
    }
   ],
   "source": [
    "kplus = 21.4\n",
    "kminus = 0.015\n",
    "\n",
    "pbinds = fit_params_and_get_pbind_from_tulip_probs(tulip_probs, kplus, kminus, 1)"
   ]
  },
  {
   "cell_type": "code",
   "execution_count": 92,
   "metadata": {},
   "outputs": [
    {
     "name": "stdout",
     "output_type": "stream",
     "text": [
      "35757188741.54458\n",
      "35757188741.544586\n",
      "-0.4848837545429273\n",
      "35757188741.544586\n"
     ]
    },
    {
     "data": {
      "text/plain": [
       "(array([20.,  7.,  7.,  4.,  1.,  3.,  3.,  2.,  3.,  4.]),\n",
       " array([1.50000e-02, 2.15350e+00, 4.29200e+00, 6.43050e+00, 8.56900e+00,\n",
       "        1.07075e+01, 1.28460e+01, 1.49845e+01, 1.71230e+01, 1.92615e+01,\n",
       "        2.14000e+01]),\n",
       " <BarContainer object of 10 artists>)"
      ]
     },
     "execution_count": 92,
     "metadata": {},
     "output_type": "execute_result"
    },
    {
     "data": {
      "image/png": "[encoded data removed]",
      "text/plain": [
       "<Figure size 432x288 with 1 Axes>"
      ]
     },
     "metadata": {
      "needs_background": "light"
     },
     "output_type": "display_data"
    }
   ],
   "source": [
    "pplus = max(tulip_probs)\n",
    "pminus = min(tulip_probs)\n",
    "\n",
    "from binding_affinity_derivation import fit_params, get_Kd_from_tulip_probs\n",
    "\n",
    "eta, eta_tilde = fit_params(kplus, kminus, pplus, pminus)\n",
    "print(eta)\n",
    "print(eta_tilde)\n",
    "Kds = get_Kd_from_tulip_probs(tulip_probs, eta, eta_tilde)\n",
    "plt.hist(Kds)"
   ]
  },
  {
   "cell_type": "code",
   "execution_count": 96,
   "metadata": {},
   "outputs": [],
   "source": [
    "pbinds = get_pbind_from_tulip_probs(tulip_probs, eta, eta_tilde, 1)"
   ]
  },
  {
   "cell_type": "code",
   "execution_count": 97,
   "metadata": {},
   "outputs": [
    {
     "data": {
      "text/plain": [
       "(array([20., 10.,  4.,  2.,  3.,  2.,  3.,  6.,  2.,  2.]),\n",
       " array([0.04464286, 0.13870074, 0.23275862, 0.3268165 , 0.42087438,\n",
       "        0.51493227, 0.60899015, 0.70304803, 0.79710591, 0.89116379,\n",
       "        0.98522167]),\n",
       " <BarContainer object of 10 artists>)"
      ]
     },
     "execution_count": 97,
     "metadata": {},
     "output_type": "execute_result"
    },
    {
     "data": {
      "image/png": "[encoded data removed]",
      "text/plain": [
       "<Figure size 432x288 with 1 Axes>"
      ]
     },
     "metadata": {
      "needs_background": "light"
     },
     "output_type": "display_data"
    }
   ],
   "source": [
    "plt.hist(pbinds)"
   ]
  },
  {
   "cell_type": "code",
   "execution_count": 99,
   "metadata": {},
   "outputs": [
    {
     "data": {
      "text/plain": [
       "0.9852216748768474"
      ]
     },
     "execution_count": 99,
     "metadata": {},
     "output_type": "execute_result"
    }
   ],
   "source": [
    "x = min(tulip_probs)\n",
    "get_pbind_from_tulip_probs(x, eta, eta_tilde, 1)"
   ]
  },
  {
   "cell_type": "code",
   "execution_count": null,
   "metadata": {},
   "outputs": [],
   "source": []
  },
  {
   "cell_type": "markdown",
   "metadata": {},
   "source": [
    "Indeed, as expected, normalising it or not does not change the output whatsoever"
   ]
  },
  {
   "cell_type": "markdown",
   "metadata": {},
   "source": [
    "Now let us run the model on the dataset"
   ]
  },
  {
   "cell_type": "markdown",
   "metadata": {},
   "source": [
    "11/05/24: The modification we need because our $\\eta$ values were fundamentally incorrect. "
   ]
  },
  {
   "cell_type": "code",
   "execution_count": 114,
   "metadata": {},
   "outputs": [
    {
     "name": "stdout",
     "output_type": "stream",
     "text": [
      "0.014999134382930471\n",
      "0.014999134382930457\n"
     ]
    }
   ],
   "source": [
    "kplus = 21.4\n",
    "kminus = 0.015\n",
    "\n",
    "pbinds = fit_params_and_get_pbind_from_tulip_probs(tulip_probs, kminus, kplus, 1)"
   ]
  },
  {
   "cell_type": "code",
   "execution_count": 116,
   "metadata": {},
   "outputs": [
    {
     "data": {
      "text/plain": [
       "(array([4586.,  766.,  223.,   42.,   58.,   37.,   17.,   20.,   38.,\n",
       "         359.]),\n",
       " array([2.97668688e-26, 9.99533100e-02, 1.99906620e-01, 2.99859930e-01,\n",
       "        3.99813240e-01, 4.99766550e-01, 5.99719860e-01, 6.99673170e-01,\n",
       "        7.99626480e-01, 8.99579790e-01, 9.99533100e-01]),\n",
       " <BarContainer object of 10 artists>)"
      ]
     },
     "execution_count": 116,
     "metadata": {},
     "output_type": "execute_result"
    },
    {
     "data": {
      "image/png": "[encoded data removed]",
      "text/plain": [
       "<Figure size 432x288 with 1 Axes>"
      ]
     },
     "metadata": {
      "needs_background": "light"
     },
     "output_type": "display_data"
    }
   ],
   "source": [
    "plt.hist(tulip_probs)"
   ]
  },
  {
   "cell_type": "code",
   "execution_count": 117,
   "metadata": {},
   "outputs": [
    {
     "data": {
      "text/plain": [
       "(array([4586.,  766.,  223.,   42.,   58.,   37.,   17.,   20.,   38.,\n",
       "         359.]),\n",
       " array([2.97668688e-26, 9.99533100e-02, 1.99906620e-01, 2.99859930e-01,\n",
       "        3.99813240e-01, 4.99766550e-01, 5.99719860e-01, 6.99673170e-01,\n",
       "        7.99626480e-01, 8.99579790e-01, 9.99533100e-01]),\n",
       " <BarContainer object of 10 artists>)"
      ]
     },
     "execution_count": 117,
     "metadata": {},
     "output_type": "execute_result"
    },
    {
     "data": {
      "image/png": "[encoded data removed]",
      "text/plain": [
       "<Figure size 432x288 with 1 Axes>"
      ]
     },
     "metadata": {
      "needs_background": "light"
     },
     "output_type": "display_data"
    }
   ],
   "source": [
    "plt.hist(tulip_probs, log=True)"
   ]
  },
  {
   "cell_type": "code",
   "execution_count": 115,
   "metadata": {},
   "outputs": [
    {
     "data": {
      "text/plain": [
       "(array([  20.,   35.,   56.,   62.,   72.,   87.,   83.,  108.,  243.,\n",
       "        5380.]),\n",
       " array([0.04464286, 0.13870074, 0.23275862, 0.3268165 , 0.42087438,\n",
       "        0.51493227, 0.60899015, 0.70304803, 0.79710591, 0.89116379,\n",
       "        0.98522167]),\n",
       " <BarContainer object of 10 artists>)"
      ]
     },
     "execution_count": 115,
     "metadata": {},
     "output_type": "execute_result"
    },
    {
     "data": {
      "image/png": "[encoded data removed]",
      "text/plain": [
       "<Figure size 432x288 with 1 Axes>"
      ]
     },
     "metadata": {
      "needs_background": "light"
     },
     "output_type": "display_data"
    }
   ],
   "source": [
    "plt.hist(pbinds)"
   ]
  }
 ],
 "metadata": {
  "kernelspec": {
   "display_name": "Python 3",
   "language": "python",
   "name": "python3"
  },
  "language_info": {
   "codemirror_mode": {
    "name": "ipython",
    "version": 3
   },
   "file_extension": ".py",
   "mimetype": "text/x-python",
   "name": "python",
   "nbconvert_exporter": "python",
   "pygments_lexer": "ipython3",
   "version": "3.10.2"
  }
 },
 "nbformat": 4,
 "nbformat_minor": 2
}
