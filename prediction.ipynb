{
 "cells": [
  {
   "cell_type": "code",
   "execution_count": 2,
   "metadata": {},
   "outputs": [],
   "source": [
    "import pandas as pd\n",
    "\n",
    "output = pd.read_csv(\"output/output-20240122-152625.csv\")"
   ]
  },
  {
   "cell_type": "code",
   "execution_count": 3,
   "metadata": {},
   "outputs": [
    {
     "data": {
      "text/html": [
       "<div>\n",
       "<style scoped>\n",
       "    .dataframe tbody tr th:only-of-type {\n",
       "        vertical-align: middle;\n",
       "    }\n",
       "\n",
       "    .dataframe tbody tr th {\n",
       "        vertical-align: top;\n",
       "    }\n",
       "\n",
       "    .dataframe thead th {\n",
       "        text-align: right;\n",
       "    }\n",
       "</style>\n",
       "<table border=\"1\" class=\"dataframe\">\n",
       "  <thead>\n",
       "    <tr style=\"text-align: right;\">\n",
       "      <th></th>\n",
       "      <th>receptor_number</th>\n",
       "      <th>CDR3a</th>\n",
       "      <th>CDR3b</th>\n",
       "      <th>peptide</th>\n",
       "      <th>score</th>\n",
       "      <th>rank</th>\n",
       "      <th>binder</th>\n",
       "    </tr>\n",
       "  </thead>\n",
       "  <tbody>\n",
       "    <tr>\n",
       "      <th>0</th>\n",
       "      <td>0</td>\n",
       "      <td>CAGASGNTGKLIF</td>\n",
       "      <td>CASSIRASYEQYF</td>\n",
       "      <td>GILGFVFTL</td>\n",
       "      <td>-0.000298</td>\n",
       "      <td>2167</td>\n",
       "      <td>1</td>\n",
       "    </tr>\n",
       "    <tr>\n",
       "      <th>1</th>\n",
       "      <td>1</td>\n",
       "      <td>CAGSGGGSQGNLIF</td>\n",
       "      <td>CASSIRSTDTQYF</td>\n",
       "      <td>GILGFVFTL</td>\n",
       "      <td>-0.000273</td>\n",
       "      <td>2178</td>\n",
       "      <td>1</td>\n",
       "    </tr>\n",
       "    <tr>\n",
       "      <th>2</th>\n",
       "      <td>2</td>\n",
       "      <td>CALDMGGGSQGNLIF</td>\n",
       "      <td>CASSIRAADTQYF</td>\n",
       "      <td>GILGFVFTL</td>\n",
       "      <td>-0.000089</td>\n",
       "      <td>2270</td>\n",
       "      <td>1</td>\n",
       "    </tr>\n",
       "    <tr>\n",
       "      <th>3</th>\n",
       "      <td>3</td>\n",
       "      <td>CAGGGSQGNLIF</td>\n",
       "      <td>CASSIRSSYEQYF</td>\n",
       "      <td>GILGFVFTL</td>\n",
       "      <td>-0.000869</td>\n",
       "      <td>2082</td>\n",
       "      <td>1</td>\n",
       "    </tr>\n",
       "    <tr>\n",
       "      <th>4</th>\n",
       "      <td>4</td>\n",
       "      <td>CALSGETSGSRLTF</td>\n",
       "      <td>CASGLVPGGLVYEQYF</td>\n",
       "      <td>GILGFVFTL</td>\n",
       "      <td>-0.194064</td>\n",
       "      <td>1899</td>\n",
       "      <td>1</td>\n",
       "    </tr>\n",
       "    <tr>\n",
       "      <th>...</th>\n",
       "      <td>...</td>\n",
       "      <td>...</td>\n",
       "      <td>...</td>\n",
       "      <td>...</td>\n",
       "      <td>...</td>\n",
       "      <td>...</td>\n",
       "      <td>...</td>\n",
       "    </tr>\n",
       "    <tr>\n",
       "      <th>6141</th>\n",
       "      <td>2</td>\n",
       "      <td>CVVADSKLTF</td>\n",
       "      <td>CSVTGERGTDTQYF</td>\n",
       "      <td>YGFQPTNGV</td>\n",
       "      <td>-20.276680</td>\n",
       "      <td>2</td>\n",
       "      <td>0</td>\n",
       "    </tr>\n",
       "    <tr>\n",
       "      <th>6142</th>\n",
       "      <td>3</td>\n",
       "      <td>CLVPSEQAGTALIF</td>\n",
       "      <td>CSASSTHSNQPQHF</td>\n",
       "      <td>YGFQPTNGV</td>\n",
       "      <td>-20.333136</td>\n",
       "      <td>1</td>\n",
       "      <td>0</td>\n",
       "    </tr>\n",
       "    <tr>\n",
       "      <th>6143</th>\n",
       "      <td>4</td>\n",
       "      <td>CAESKRDGGATNKLIF</td>\n",
       "      <td>CASSPSREGYTF</td>\n",
       "      <td>YGFQPTNGV</td>\n",
       "      <td>-12.833920</td>\n",
       "      <td>5</td>\n",
       "      <td>0</td>\n",
       "    </tr>\n",
       "    <tr>\n",
       "      <th>6144</th>\n",
       "      <td>5</td>\n",
       "      <td>CAVDTNTDKLIF</td>\n",
       "      <td>CASSQGYEQYF</td>\n",
       "      <td>YGFQPTNGV</td>\n",
       "      <td>-14.809388</td>\n",
       "      <td>4</td>\n",
       "      <td>0</td>\n",
       "    </tr>\n",
       "    <tr>\n",
       "      <th>6145</th>\n",
       "      <td>6</td>\n",
       "      <td>CAGAGGGSQGNLIF</td>\n",
       "      <td>CASSMRSAGELFF</td>\n",
       "      <td>YGFQPTNGV</td>\n",
       "      <td>-22.070002</td>\n",
       "      <td>0</td>\n",
       "      <td>0</td>\n",
       "    </tr>\n",
       "  </tbody>\n",
       "</table>\n",
       "<p>6146 rows × 7 columns</p>\n",
       "</div>"
      ],
      "text/plain": [
       "      receptor_number             CDR3a             CDR3b    peptide  \\\n",
       "0                   0     CAGASGNTGKLIF     CASSIRASYEQYF  GILGFVFTL   \n",
       "1                   1    CAGSGGGSQGNLIF     CASSIRSTDTQYF  GILGFVFTL   \n",
       "2                   2   CALDMGGGSQGNLIF     CASSIRAADTQYF  GILGFVFTL   \n",
       "3                   3      CAGGGSQGNLIF     CASSIRSSYEQYF  GILGFVFTL   \n",
       "4                   4    CALSGETSGSRLTF  CASGLVPGGLVYEQYF  GILGFVFTL   \n",
       "...               ...               ...               ...        ...   \n",
       "6141                2        CVVADSKLTF    CSVTGERGTDTQYF  YGFQPTNGV   \n",
       "6142                3    CLVPSEQAGTALIF    CSASSTHSNQPQHF  YGFQPTNGV   \n",
       "6143                4  CAESKRDGGATNKLIF      CASSPSREGYTF  YGFQPTNGV   \n",
       "6144                5      CAVDTNTDKLIF       CASSQGYEQYF  YGFQPTNGV   \n",
       "6145                6    CAGAGGGSQGNLIF     CASSMRSAGELFF  YGFQPTNGV   \n",
       "\n",
       "          score  rank   binder  \n",
       "0     -0.000298  2167        1  \n",
       "1     -0.000273  2178        1  \n",
       "2     -0.000089  2270        1  \n",
       "3     -0.000869  2082        1  \n",
       "4     -0.194064  1899        1  \n",
       "...         ...   ...      ...  \n",
       "6141 -20.276680     2        0  \n",
       "6142 -20.333136     1        0  \n",
       "6143 -12.833920     5        0  \n",
       "6144 -14.809388     4        0  \n",
       "6145 -22.070002     0        0  \n",
       "\n",
       "[6146 rows x 7 columns]"
      ]
     },
     "execution_count": 3,
     "metadata": {},
     "output_type": "execute_result"
    }
   ],
   "source": [
    "# Want set of lengths of each column\n",
    "output"
   ]
  },
  {
   "cell_type": "code",
   "execution_count": 4,
   "metadata": {},
   "outputs": [],
   "source": [
    "def get_lengths_of_sequence_type(column_name):\n",
    "    return output[column_name].apply(lambda x : len(x)).drop_duplicates()"
   ]
  },
  {
   "cell_type": "code",
   "execution_count": 5,
   "metadata": {},
   "outputs": [],
   "source": [
    "def get_character_set(column_name):\n",
    "    character_dict = {}\n",
    "\n",
    "    output[column_name].apply(lambda x : add_chars_to_dict(x, character_dict)).drop_duplicates()\n",
    "\n",
    "    return character_dict\n",
    "\n",
    "def add_chars_to_dict(string, dict):\n",
    "    for c in string:\n",
    "        if c in dict.keys():\n",
    "            dict[c] += 1\n",
    "        else:\n",
    "            dict[c] = 1 "
   ]
  },
  {
   "cell_type": "code",
   "execution_count": 6,
   "metadata": {},
   "outputs": [
    {
     "data": {
      "text/plain": [
       "['A',\n",
       " 'C',\n",
       " 'D',\n",
       " 'E',\n",
       " 'F',\n",
       " 'G',\n",
       " 'H',\n",
       " 'I',\n",
       " 'K',\n",
       " 'L',\n",
       " 'M',\n",
       " 'N',\n",
       " 'P',\n",
       " 'Q',\n",
       " 'R',\n",
       " 'S',\n",
       " 'T',\n",
       " 'V',\n",
       " 'W',\n",
       " 'Y']"
      ]
     },
     "execution_count": 6,
     "metadata": {},
     "output_type": "execute_result"
    }
   ],
   "source": [
    "charset = list(get_character_set(\"peptide\").keys())\n",
    "charset.sort()\n",
    "charset"
   ]
  },
  {
   "cell_type": "markdown",
   "metadata": {},
   "source": [
    "The characters are everything bar $B, J, O, U, X, Z$, which agrees with online!"
   ]
  },
  {
   "cell_type": "code",
   "execution_count": 7,
   "metadata": {},
   "outputs": [
    {
     "name": "stdout",
     "output_type": "stream",
     "text": [
      "0        9\n",
      "2821    10\n",
      "Name: peptide, dtype: int64\n",
      "0       13\n",
      "1       14\n",
      "2       15\n",
      "3       12\n",
      "6       16\n",
      "7       17\n",
      "16      11\n",
      "57      18\n",
      "63      19\n",
      "64       9\n",
      "67      10\n",
      "324      8\n",
      "1131    20\n",
      "Name: CDR3a, dtype: int64\n",
      "0      13\n",
      "4      16\n",
      "17     15\n",
      "22     14\n",
      "23     18\n",
      "42     12\n",
      "67     17\n",
      "76     11\n",
      "160    10\n",
      "450    19\n",
      "716     8\n",
      "861    20\n",
      "Name: CDR3b, dtype: int64\n"
     ]
    }
   ],
   "source": [
    "types = [\"peptide\", \"CDR3a\", \"CDR3b\"]\n",
    "for type in types:\n",
    "    print(get_lengths_of_sequence_type(type))"
   ]
  },
  {
   "cell_type": "markdown",
   "metadata": {},
   "source": [
    "So then:\n",
    "\n",
    "peptide has length $9< l < 10$\n",
    "\n",
    "CDR3a has length $9< l < 20$\n",
    "\n",
    "CDR3b has length $8< l < 20$"
   ]
  },
  {
   "cell_type": "markdown",
   "metadata": {},
   "source": [
    "Plotting the distribution of the scores"
   ]
  },
  {
   "cell_type": "code",
   "execution_count": 8,
   "metadata": {},
   "outputs": [
    {
     "data": {
      "text/plain": [
       "(array([   4.,    6.,   20.,   36.,   61.,   62.,  150.,  817., 2257.,\n",
       "        2733.]),\n",
       " array([-7.90280609e+01, -7.11252565e+01, -6.32224522e+01, -5.53196478e+01,\n",
       "        -4.74168434e+01, -3.95140390e+01, -3.16112347e+01, -2.37084303e+01,\n",
       "        -1.58056259e+01, -7.90282154e+00, -1.71660649e-05]),\n",
       " <BarContainer object of 10 artists>)"
      ]
     },
     "execution_count": 8,
     "metadata": {},
     "output_type": "execute_result"
    },
    {
     "data": {
      "image/png": "[encoded data removed]",
      "text/plain": [
       "<Figure size 640x480 with 1 Axes>"
      ]
     },
     "metadata": {},
     "output_type": "display_data"
    }
   ],
   "source": [
    "import matplotlib.pyplot as plt\n",
    "scores = output[\"score\"]\n",
    "plt.hist(scores)"
   ]
  },
  {
   "cell_type": "code",
   "execution_count": 9,
   "metadata": {},
   "outputs": [
    {
     "name": "stdout",
     "output_type": "stream",
     "text": [
      "-10.264001308170382\n",
      "9.140968186658725\n"
     ]
    }
   ],
   "source": [
    "import numpy as np\n",
    "print(np.mean(scores))\n",
    "print(np.sqrt(np.var(scores)))"
   ]
  },
  {
   "cell_type": "markdown",
   "metadata": {},
   "source": [
    "(Something like a gamma distribution, or similar?)"
   ]
  },
  {
   "cell_type": "code",
   "execution_count": 10,
   "metadata": {},
   "outputs": [
    {
     "data": {
      "text/plain": [
       "(array([ 2.,  4.,  1.,  9.,  2., 17., 19., 10., 32., 52.]),\n",
       " array([0. , 0.1, 0.2, 0.3, 0.4, 0.5, 0.6, 0.7, 0.8, 0.9, 1. ]),\n",
       " <BarContainer object of 10 artists>)"
      ]
     },
     "execution_count": 10,
     "metadata": {},
     "output_type": "execute_result"
    },
    {
     "data": {
      "image/png": "[encoded data removed]",
      "text/plain": [
       "<Figure size 640x480 with 1 Axes>"
      ]
     },
     "metadata": {},
     "output_type": "display_data"
    }
   ],
   "source": [
    "output_aucs = pd.read_csv(\"output/output_auc-20240122-152625.csv\")\n",
    "\n",
    "aucs = output_aucs[\"auc\"]\n",
    "plt.hist(aucs)"
   ]
  },
  {
   "cell_type": "code",
   "execution_count": 11,
   "metadata": {},
   "outputs": [
    {
     "name": "stdout",
     "output_type": "stream",
     "text": [
      "0.7601252158098623\n",
      "0.8333333333333334\n",
      "148\n"
     ]
    }
   ],
   "source": [
    "print(np.mean(aucs)) # Not quite the same as taking _all_ the aucs, weighted by the number in each class?\n",
    "print(np.median(aucs))\n",
    "print(len(aucs))"
   ]
  },
  {
   "cell_type": "code",
   "execution_count": 12,
   "metadata": {},
   "outputs": [
    {
     "data": {
      "text/plain": [
       "0      0.946921\n",
       "1      0.881369\n",
       "2      0.848989\n",
       "3      0.880368\n",
       "4      0.375000\n",
       "         ...   \n",
       "143    0.666667\n",
       "144    1.000000\n",
       "145    1.000000\n",
       "146    0.333333\n",
       "147    1.000000\n",
       "Name: auc, Length: 148, dtype: float64"
      ]
     },
     "execution_count": 12,
     "metadata": {},
     "output_type": "execute_result"
    }
   ],
   "source": [
    "aucs"
   ]
  },
  {
   "cell_type": "code",
   "execution_count": 13,
   "metadata": {},
   "outputs": [],
   "source": [
    "trimmed_output_aucs = output_aucs.loc[output_aucs['auc'] != 1].loc[output_aucs['auc'] != 0]\n",
    "trimmed_aucs = trimmed_output_aucs['auc']"
   ]
  },
  {
   "cell_type": "markdown",
   "metadata": {},
   "source": [
    "Situations where you only have one TCR you're checking against."
   ]
  },
  {
   "cell_type": "code",
   "execution_count": 14,
   "metadata": {},
   "outputs": [
    {
     "name": "stdout",
     "output_type": "stream",
     "text": [
      "0.6617503131358786\n",
      "0.6666666666666667\n",
      "102\n"
     ]
    }
   ],
   "source": [
    "print(np.mean(trimmed_aucs)) # Not quite the same as taking _all_ the aucs, weighted by the number in each class?\n",
    "print(np.median(trimmed_aucs))\n",
    "print(len(trimmed_aucs))"
   ]
  },
  {
   "cell_type": "code",
   "execution_count": 15,
   "metadata": {},
   "outputs": [],
   "source": [
    "# Let us shuffle our data, by shuffling one of the columns\n",
    "unmodified_data =pd.read_csv(\"data/VDJ_test_2.csv\")"
   ]
  },
  {
   "cell_type": "code",
   "execution_count": 16,
   "metadata": {},
   "outputs": [],
   "source": [
    "unmodified_data['CDR3a'] = unmodified_data['CDR3a'].sample(frac=1).values"
   ]
  },
  {
   "cell_type": "code",
   "execution_count": 17,
   "metadata": {},
   "outputs": [],
   "source": [
    "unmodified_data.to_csv(\"data/VDJ_test_2_shuffled.csv\")"
   ]
  },
  {
   "cell_type": "code",
   "execution_count": 18,
   "metadata": {},
   "outputs": [
    {
     "data": {
      "text/plain": [
       "(array([   4.,    6.,   20.,   36.,   61.,   62.,  150.,  817., 2257.,\n",
       "        2733.]),\n",
       " array([-7.90280609e+01, -7.11252565e+01, -6.32224522e+01, -5.53196478e+01,\n",
       "        -4.74168434e+01, -3.95140390e+01, -3.16112347e+01, -2.37084303e+01,\n",
       "        -1.58056259e+01, -7.90282154e+00, -1.71660649e-05]),\n",
       " <BarContainer object of 10 artists>)"
      ]
     },
     "execution_count": 18,
     "metadata": {},
     "output_type": "execute_result"
    },
    {
     "data": {
      "image/png": "[encoded data removed]",
      "text/plain": [
       "<Figure size 640x480 with 1 Axes>"
      ]
     },
     "metadata": {},
     "output_type": "display_data"
    }
   ],
   "source": [
    "shuffled_output = pd.read_csv(\"output/output-20240128-233714_shuffled.csv\")\n",
    "shuffled_scores = shuffled_output[\"score\"]\n",
    "plt.hist(shuffled_scores, color=\"red\", alpha=0.5)\n",
    "plt.hist(scores, alpha=0.5)"
   ]
  },
  {
   "cell_type": "code",
   "execution_count": 20,
   "metadata": {},
   "outputs": [],
   "source": [
    "binders = output[\" binder\"]"
   ]
  },
  {
   "cell_type": "code",
   "execution_count": 22,
   "metadata": {},
   "outputs": [
    {
     "ename": "ModuleNotFoundError",
     "evalue": "No module named 'sklearn'",
     "output_type": "error",
     "traceback": [
      "\u001b[1;31m---------------------------------------------------------------------------\u001b[0m",
      "\u001b[1;31mModuleNotFoundError\u001b[0m                       Traceback (most recent call last)",
      "Cell \u001b[1;32mIn[22], line 1\u001b[0m\n\u001b[1;32m----> 1\u001b[0m \u001b[38;5;28;01mfrom\u001b[39;00m \u001b[38;5;21;01msklearn\u001b[39;00m\u001b[38;5;21;01m.\u001b[39;00m\u001b[38;5;21;01mmetrics\u001b[39;00m \u001b[38;5;28;01mimport\u001b[39;00m roc_auc_score\n\u001b[0;32m      3\u001b[0m roc_auc_score(binders, scores)\n",
      "\u001b[1;31mModuleNotFoundError\u001b[0m: No module named 'sklearn'"
     ]
    }
   ],
   "source": [
    "from sklearn.metrics import roc_auc_score\n",
    "\n",
    "roc_auc_score(binders, scores)"
   ]
  }
 ],
 "metadata": {
  "kernelspec": {
   "display_name": "Python 3",
   "language": "python",
   "name": "python3"
  },
  "language_info": {
   "codemirror_mode": {
    "name": "ipython",
    "version": 3
   },
   "file_extension": ".py",
   "mimetype": "text/x-python",
   "name": "python",
   "nbconvert_exporter": "python",
   "pygments_lexer": "ipython3",
   "version": "3.12.0"
  }
 },
 "nbformat": 4,
 "nbformat_minor": 2
}
