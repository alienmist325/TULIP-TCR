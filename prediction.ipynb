{
 "cells": [
  {
   "cell_type": "code",
   "execution_count": 18,
   "metadata": {},
   "outputs": [],
   "source": [
    "import pandas as pd\n",
    "\n",
    "output = pd.read_csv(\"output/output-20240122-152625.csv\")"
   ]
  },
  {
   "cell_type": "code",
   "execution_count": 19,
   "metadata": {},
   "outputs": [
    {
     "data": {
      "text/html": [
       "<div>\n",
       "<style scoped>\n",
       "    .dataframe tbody tr th:only-of-type {\n",
       "        vertical-align: middle;\n",
       "    }\n",
       "\n",
       "    .dataframe tbody tr th {\n",
       "        vertical-align: top;\n",
       "    }\n",
       "\n",
       "    .dataframe thead th {\n",
       "        text-align: right;\n",
       "    }\n",
       "</style>\n",
       "<table border=\"1\" class=\"dataframe\">\n",
       "  <thead>\n",
       "    <tr style=\"text-align: right;\">\n",
       "      <th></th>\n",
       "      <th>receptor_number</th>\n",
       "      <th>CDR3a</th>\n",
       "      <th>CDR3b</th>\n",
       "      <th>peptide</th>\n",
       "      <th>score</th>\n",
       "      <th>rank</th>\n",
       "      <th>binder</th>\n",
       "    </tr>\n",
       "  </thead>\n",
       "  <tbody>\n",
       "    <tr>\n",
       "      <th>0</th>\n",
       "      <td>0</td>\n",
       "      <td>CAGASGNTGKLIF</td>\n",
       "      <td>CASSIRASYEQYF</td>\n",
       "      <td>GILGFVFTL</td>\n",
       "      <td>-0.000298</td>\n",
       "      <td>2167</td>\n",
       "      <td>1</td>\n",
       "    </tr>\n",
       "    <tr>\n",
       "      <th>1</th>\n",
       "      <td>1</td>\n",
       "      <td>CAGSGGGSQGNLIF</td>\n",
       "      <td>CASSIRSTDTQYF</td>\n",
       "      <td>GILGFVFTL</td>\n",
       "      <td>-0.000273</td>\n",
       "      <td>2178</td>\n",
       "      <td>1</td>\n",
       "    </tr>\n",
       "    <tr>\n",
       "      <th>2</th>\n",
       "      <td>2</td>\n",
       "      <td>CALDMGGGSQGNLIF</td>\n",
       "      <td>CASSIRAADTQYF</td>\n",
       "      <td>GILGFVFTL</td>\n",
       "      <td>-0.000089</td>\n",
       "      <td>2270</td>\n",
       "      <td>1</td>\n",
       "    </tr>\n",
       "    <tr>\n",
       "      <th>3</th>\n",
       "      <td>3</td>\n",
       "      <td>CAGGGSQGNLIF</td>\n",
       "      <td>CASSIRSSYEQYF</td>\n",
       "      <td>GILGFVFTL</td>\n",
       "      <td>-0.000869</td>\n",
       "      <td>2082</td>\n",
       "      <td>1</td>\n",
       "    </tr>\n",
       "    <tr>\n",
       "      <th>4</th>\n",
       "      <td>4</td>\n",
       "      <td>CALSGETSGSRLTF</td>\n",
       "      <td>CASGLVPGGLVYEQYF</td>\n",
       "      <td>GILGFVFTL</td>\n",
       "      <td>-0.194064</td>\n",
       "      <td>1899</td>\n",
       "      <td>1</td>\n",
       "    </tr>\n",
       "    <tr>\n",
       "      <th>...</th>\n",
       "      <td>...</td>\n",
       "      <td>...</td>\n",
       "      <td>...</td>\n",
       "      <td>...</td>\n",
       "      <td>...</td>\n",
       "      <td>...</td>\n",
       "      <td>...</td>\n",
       "    </tr>\n",
       "    <tr>\n",
       "      <th>6141</th>\n",
       "      <td>2</td>\n",
       "      <td>CVVADSKLTF</td>\n",
       "      <td>CSVTGERGTDTQYF</td>\n",
       "      <td>YGFQPTNGV</td>\n",
       "      <td>-20.276680</td>\n",
       "      <td>2</td>\n",
       "      <td>0</td>\n",
       "    </tr>\n",
       "    <tr>\n",
       "      <th>6142</th>\n",
       "      <td>3</td>\n",
       "      <td>CLVPSEQAGTALIF</td>\n",
       "      <td>CSASSTHSNQPQHF</td>\n",
       "      <td>YGFQPTNGV</td>\n",
       "      <td>-20.333136</td>\n",
       "      <td>1</td>\n",
       "      <td>0</td>\n",
       "    </tr>\n",
       "    <tr>\n",
       "      <th>6143</th>\n",
       "      <td>4</td>\n",
       "      <td>CAESKRDGGATNKLIF</td>\n",
       "      <td>CASSPSREGYTF</td>\n",
       "      <td>YGFQPTNGV</td>\n",
       "      <td>-12.833920</td>\n",
       "      <td>5</td>\n",
       "      <td>0</td>\n",
       "    </tr>\n",
       "    <tr>\n",
       "      <th>6144</th>\n",
       "      <td>5</td>\n",
       "      <td>CAVDTNTDKLIF</td>\n",
       "      <td>CASSQGYEQYF</td>\n",
       "      <td>YGFQPTNGV</td>\n",
       "      <td>-14.809388</td>\n",
       "      <td>4</td>\n",
       "      <td>0</td>\n",
       "    </tr>\n",
       "    <tr>\n",
       "      <th>6145</th>\n",
       "      <td>6</td>\n",
       "      <td>CAGAGGGSQGNLIF</td>\n",
       "      <td>CASSMRSAGELFF</td>\n",
       "      <td>YGFQPTNGV</td>\n",
       "      <td>-22.070002</td>\n",
       "      <td>0</td>\n",
       "      <td>0</td>\n",
       "    </tr>\n",
       "  </tbody>\n",
       "</table>\n",
       "<p>6146 rows × 7 columns</p>\n",
       "</div>"
      ],
      "text/plain": [
       "      receptor_number             CDR3a             CDR3b    peptide  \\\n",
       "0                   0     CAGASGNTGKLIF     CASSIRASYEQYF  GILGFVFTL   \n",
       "1                   1    CAGSGGGSQGNLIF     CASSIRSTDTQYF  GILGFVFTL   \n",
       "2                   2   CALDMGGGSQGNLIF     CASSIRAADTQYF  GILGFVFTL   \n",
       "3                   3      CAGGGSQGNLIF     CASSIRSSYEQYF  GILGFVFTL   \n",
       "4                   4    CALSGETSGSRLTF  CASGLVPGGLVYEQYF  GILGFVFTL   \n",
       "...               ...               ...               ...        ...   \n",
       "6141                2        CVVADSKLTF    CSVTGERGTDTQYF  YGFQPTNGV   \n",
       "6142                3    CLVPSEQAGTALIF    CSASSTHSNQPQHF  YGFQPTNGV   \n",
       "6143                4  CAESKRDGGATNKLIF      CASSPSREGYTF  YGFQPTNGV   \n",
       "6144                5      CAVDTNTDKLIF       CASSQGYEQYF  YGFQPTNGV   \n",
       "6145                6    CAGAGGGSQGNLIF     CASSMRSAGELFF  YGFQPTNGV   \n",
       "\n",
       "          score  rank   binder  \n",
       "0     -0.000298  2167        1  \n",
       "1     -0.000273  2178        1  \n",
       "2     -0.000089  2270        1  \n",
       "3     -0.000869  2082        1  \n",
       "4     -0.194064  1899        1  \n",
       "...         ...   ...      ...  \n",
       "6141 -20.276680     2        0  \n",
       "6142 -20.333136     1        0  \n",
       "6143 -12.833920     5        0  \n",
       "6144 -14.809388     4        0  \n",
       "6145 -22.070002     0        0  \n",
       "\n",
       "[6146 rows x 7 columns]"
      ]
     },
     "execution_count": 19,
     "metadata": {},
     "output_type": "execute_result"
    }
   ],
   "source": [
    "# Want set of lengths of each column\n",
    "output"
   ]
  },
  {
   "cell_type": "code",
   "execution_count": 20,
   "metadata": {},
   "outputs": [],
   "source": [
    "def get_lengths_of_sequence_type(column_name):\n",
    "    return output[column_name].apply(lambda x : len(x)).drop_duplicates()"
   ]
  },
  {
   "cell_type": "code",
   "execution_count": 21,
   "metadata": {},
   "outputs": [],
   "source": [
    "def get_character_set(column_name):\n",
    "    character_dict = {}\n",
    "\n",
    "    output[column_name].apply(lambda x : add_chars_to_dict(x, character_dict)).drop_duplicates()\n",
    "\n",
    "    return character_dict\n",
    "\n",
    "def add_chars_to_dict(string, dict):\n",
    "    for c in string:\n",
    "        if c in dict.keys():\n",
    "            dict[c] += 1\n",
    "        else:\n",
    "            dict[c] = 1 "
   ]
  },
  {
   "cell_type": "code",
   "execution_count": 22,
   "metadata": {},
   "outputs": [
    {
     "data": {
      "text/plain": [
       "['A',\n",
       " 'C',\n",
       " 'D',\n",
       " 'E',\n",
       " 'F',\n",
       " 'G',\n",
       " 'H',\n",
       " 'I',\n",
       " 'K',\n",
       " 'L',\n",
       " 'M',\n",
       " 'N',\n",
       " 'P',\n",
       " 'Q',\n",
       " 'R',\n",
       " 'S',\n",
       " 'T',\n",
       " 'V',\n",
       " 'W',\n",
       " 'Y']"
      ]
     },
     "execution_count": 22,
     "metadata": {},
     "output_type": "execute_result"
    }
   ],
   "source": [
    "charset = list(get_character_set(\"peptide\").keys())\n",
    "charset.sort()\n",
    "charset"
   ]
  },
  {
   "cell_type": "markdown",
   "metadata": {},
   "source": [
    "The characters are everything bar $B, J, O, U, X, Z$, which agrees with online!"
   ]
  },
  {
   "cell_type": "code",
   "execution_count": 23,
   "metadata": {},
   "outputs": [
    {
     "name": "stdout",
     "output_type": "stream",
     "text": [
      "0        9\n",
      "2821    10\n",
      "Name: peptide, dtype: int64\n",
      "0       13\n",
      "1       14\n",
      "2       15\n",
      "3       12\n",
      "6       16\n",
      "7       17\n",
      "16      11\n",
      "57      18\n",
      "63      19\n",
      "64       9\n",
      "67      10\n",
      "324      8\n",
      "1131    20\n",
      "Name: CDR3a, dtype: int64\n",
      "0      13\n",
      "4      16\n",
      "17     15\n",
      "22     14\n",
      "23     18\n",
      "42     12\n",
      "67     17\n",
      "76     11\n",
      "160    10\n",
      "450    19\n",
      "716     8\n",
      "861    20\n",
      "Name: CDR3b, dtype: int64\n"
     ]
    }
   ],
   "source": [
    "types = [\"peptide\", \"CDR3a\", \"CDR3b\"]\n",
    "for type in types:\n",
    "    print(get_lengths_of_sequence_type(type))"
   ]
  },
  {
   "cell_type": "markdown",
   "metadata": {},
   "source": [
    "So then:\n",
    "\n",
    "peptide has length $9< l < 10$\n",
    "\n",
    "CDR3a has length $9< l < 20$\n",
    "\n",
    "CDR3b has length $8< l < 20$"
   ]
  },
  {
   "cell_type": "markdown",
   "metadata": {},
   "source": [
    "Plotting the distribution of the scores"
   ]
  },
  {
   "cell_type": "code",
   "execution_count": 24,
   "metadata": {},
   "outputs": [
    {
     "data": {
      "text/plain": [
       "(array([   4.,    6.,   20.,   36.,   61.,   62.,  150.,  817., 2257.,\n",
       "        2733.]),\n",
       " array([-7.90280609e+01, -7.11252565e+01, -6.32224522e+01, -5.53196478e+01,\n",
       "        -4.74168434e+01, -3.95140390e+01, -3.16112347e+01, -2.37084303e+01,\n",
       "        -1.58056259e+01, -7.90282154e+00, -1.71660649e-05]),\n",
       " <BarContainer object of 10 artists>)"
      ]
     },
     "execution_count": 24,
     "metadata": {},
     "output_type": "execute_result"
    },
    {
     "data": {
      "image/png": "[encoded data removed]",
      "text/plain": [
       "<Figure size 432x288 with 1 Axes>"
      ]
     },
     "metadata": {
      "needs_background": "light"
     },
     "output_type": "display_data"
    }
   ],
   "source": [
    "import matplotlib.pyplot as plt\n",
    "scores = output[\"score\"]\n",
    "plt.hist(scores)"
   ]
  },
  {
   "cell_type": "code",
   "execution_count": 25,
   "metadata": {},
   "outputs": [
    {
     "name": "stdout",
     "output_type": "stream",
     "text": [
      "-10.264001308170382\n",
      "9.140968186658725\n"
     ]
    }
   ],
   "source": [
    "import numpy as np\n",
    "print(np.mean(scores))\n",
    "print(np.sqrt(np.var(scores)))"
   ]
  },
  {
   "cell_type": "markdown",
   "metadata": {},
   "source": [
    "(Something like a gamma distribution, or similar?)"
   ]
  },
  {
   "cell_type": "code",
   "execution_count": 26,
   "metadata": {},
   "outputs": [
    {
     "data": {
      "text/plain": [
       "(array([ 2.,  4.,  1.,  9.,  2., 17., 19., 10., 32., 52.]),\n",
       " array([0. , 0.1, 0.2, 0.3, 0.4, 0.5, 0.6, 0.7, 0.8, 0.9, 1. ]),\n",
       " <BarContainer object of 10 artists>)"
      ]
     },
     "execution_count": 26,
     "metadata": {},
     "output_type": "execute_result"
    },
    {
     "data": {
      "image/png": "[encoded data removed]",
      "text/plain": [
       "<Figure size 432x288 with 1 Axes>"
      ]
     },
     "metadata": {
      "needs_background": "light"
     },
     "output_type": "display_data"
    }
   ],
   "source": [
    "output_aucs = pd.read_csv(\"output/output_auc-20240122-152625.csv\")\n",
    "\n",
    "aucs = output_aucs[\"auc\"]\n",
    "plt.hist(aucs)"
   ]
  },
  {
   "cell_type": "code",
   "execution_count": 27,
   "metadata": {},
   "outputs": [
    {
     "name": "stdout",
     "output_type": "stream",
     "text": [
      "0.7601252158098623\n",
      "0.8333333333333334\n",
      "148\n"
     ]
    }
   ],
   "source": [
    "print(np.mean(aucs)) # Not quite the same as taking _all_ the aucs, weighted by the number in each class?\n",
    "print(np.median(aucs))\n",
    "print(len(aucs))"
   ]
  },
  {
   "cell_type": "code",
   "execution_count": 28,
   "metadata": {},
   "outputs": [
    {
     "data": {
      "text/plain": [
       "0      0.946921\n",
       "1      0.881369\n",
       "2      0.848989\n",
       "3      0.880368\n",
       "4      0.375000\n",
       "         ...   \n",
       "143    0.666667\n",
       "144    1.000000\n",
       "145    1.000000\n",
       "146    0.333333\n",
       "147    1.000000\n",
       "Name: auc, Length: 148, dtype: float64"
      ]
     },
     "execution_count": 28,
     "metadata": {},
     "output_type": "execute_result"
    }
   ],
   "source": [
    "aucs"
   ]
  },
  {
   "cell_type": "code",
   "execution_count": 29,
   "metadata": {},
   "outputs": [],
   "source": [
    "trimmed_output_aucs = output_aucs.loc[output_aucs['auc'] != 1].loc[output_aucs['auc'] != 0]\n",
    "trimmed_aucs = trimmed_output_aucs['auc']"
   ]
  },
  {
   "cell_type": "markdown",
   "metadata": {},
   "source": [
    "Situations where you only have one TCR you're checking against."
   ]
  },
  {
   "cell_type": "code",
   "execution_count": 30,
   "metadata": {},
   "outputs": [
    {
     "name": "stdout",
     "output_type": "stream",
     "text": [
      "0.6617503131358786\n",
      "0.6666666666666667\n",
      "102\n"
     ]
    }
   ],
   "source": [
    "print(np.mean(trimmed_aucs)) # Not quite the same as taking _all_ the aucs, weighted by the number in each class?\n",
    "print(np.median(trimmed_aucs))\n",
    "print(len(trimmed_aucs))"
   ]
  },
  {
   "cell_type": "code",
   "execution_count": 31,
   "metadata": {},
   "outputs": [],
   "source": [
    "# Let us shuffle our data, by shuffling one of the columns\n",
    "unmodified_data =pd.read_csv(\"data/VDJ_test_2.csv\")"
   ]
  },
  {
   "cell_type": "code",
   "execution_count": 32,
   "metadata": {},
   "outputs": [],
   "source": [
    "unmodified_data['CDR3a'] = unmodified_data['CDR3a'].sample(frac=1).values"
   ]
  },
  {
   "cell_type": "code",
   "execution_count": 33,
   "metadata": {},
   "outputs": [],
   "source": [
    "unmodified_data.to_csv(\"data/VDJ_test_2_shuffled.csv\")"
   ]
  },
  {
   "cell_type": "code",
   "execution_count": 34,
   "metadata": {},
   "outputs": [
    {
     "data": {
      "text/plain": [
       "(array([   4.,    6.,   20.,   36.,   61.,   62.,  150.,  817., 2257.,\n",
       "        2733.]),\n",
       " array([-7.90280609e+01, -7.11252565e+01, -6.32224522e+01, -5.53196478e+01,\n",
       "        -4.74168434e+01, -3.95140390e+01, -3.16112347e+01, -2.37084303e+01,\n",
       "        -1.58056259e+01, -7.90282154e+00, -1.71660649e-05]),\n",
       " <BarContainer object of 10 artists>)"
      ]
     },
     "execution_count": 34,
     "metadata": {},
     "output_type": "execute_result"
    },
    {
     "data": {
      "image/png": "[encoded data removed]",
      "text/plain": [
       "<Figure size 432x288 with 1 Axes>"
      ]
     },
     "metadata": {
      "needs_background": "light"
     },
     "output_type": "display_data"
    }
   ],
   "source": [
    "shuffled_output = pd.read_csv(\"output/output-20240128-233714_shuffled.csv\")\n",
    "shuffled_scores = shuffled_output[\"score\"]\n",
    "plt.hist(shuffled_scores, color=\"red\", alpha=0.5)\n",
    "plt.hist(scores, alpha=0.5)"
   ]
  },
  {
   "cell_type": "code",
   "execution_count": 35,
   "metadata": {},
   "outputs": [],
   "source": [
    "binders = output[\" binder\"]"
   ]
  },
  {
   "cell_type": "code",
   "execution_count": 36,
   "metadata": {},
   "outputs": [
    {
     "data": {
      "text/plain": [
       "0.7961846399717727"
      ]
     },
     "execution_count": 36,
     "metadata": {},
     "output_type": "execute_result"
    }
   ],
   "source": [
    "from sklearn.metrics import roc_auc_score\n",
    "\n",
    "roc_auc_score(binders, scores)"
   ]
  },
  {
   "cell_type": "code",
   "execution_count": 79,
   "metadata": {},
   "outputs": [],
   "source": [
    "epitopes = [\n",
    "    \"KLSALGINAV\",\n",
    "    \"RLGPVQNEV\",\n",
    "    \"ALSKGVHFV\",\n",
    "    \"LLDFVRFMGV\",\n",
    "    \"FLYALALLL\",\n",
    "    \"FLASKIGRLV\",\n",
    "    \"SLFNTVATLY\",\n",
    "    \"LLFGYPVYV\",\n",
    "    \"RLPGVLPRA\",\n",
    "    \"RTLNAWVKV\",\n",
    "    \"LLWNGPMAV\",\n",
    "    \"CINGVCWTV\",\n",
    "    \"ELAGIGILTV\",\n",
    "    \"YLQPRTFLL\",\n",
    "    \"GLCTLVAML\",\n",
    "    \"NLVPMVATV\",\n",
    "    \"GILGFVFTL\"]\n",
    "#epitopes.reverse()\n",
    "\n",
    "selected_output = output_aucs[output_aucs[\"peptide\"].isin(epitopes)]"
   ]
  },
  {
   "cell_type": "code",
   "execution_count": 43,
   "metadata": {},
   "outputs": [
    {
     "data": {
      "text/html": [
       "<div>\n",
       "<style scoped>\n",
       "    .dataframe tbody tr th:only-of-type {\n",
       "        vertical-align: middle;\n",
       "    }\n",
       "\n",
       "    .dataframe tbody tr th {\n",
       "        vertical-align: top;\n",
       "    }\n",
       "\n",
       "    .dataframe thead th {\n",
       "        text-align: right;\n",
       "    }\n",
       "</style>\n",
       "<table border=\"1\" class=\"dataframe\">\n",
       "  <thead>\n",
       "    <tr style=\"text-align: right;\">\n",
       "      <th></th>\n",
       "      <th>index</th>\n",
       "      <th>peptide</th>\n",
       "      <th>auc</th>\n",
       "    </tr>\n",
       "  </thead>\n",
       "  <tbody>\n",
       "    <tr>\n",
       "      <th>0</th>\n",
       "      <td>0</td>\n",
       "      <td>GILGFVFTL</td>\n",
       "      <td>0.946921</td>\n",
       "    </tr>\n",
       "    <tr>\n",
       "      <th>1</th>\n",
       "      <td>0</td>\n",
       "      <td>LLWNGPMAV</td>\n",
       "      <td>0.881369</td>\n",
       "    </tr>\n",
       "    <tr>\n",
       "      <th>2</th>\n",
       "      <td>0</td>\n",
       "      <td>CINGVCWTV</td>\n",
       "      <td>0.848989</td>\n",
       "    </tr>\n",
       "    <tr>\n",
       "      <th>3</th>\n",
       "      <td>0</td>\n",
       "      <td>ELAGIGILTV</td>\n",
       "      <td>0.880368</td>\n",
       "    </tr>\n",
       "    <tr>\n",
       "      <th>5</th>\n",
       "      <td>0</td>\n",
       "      <td>NLVPMVATV</td>\n",
       "      <td>0.913805</td>\n",
       "    </tr>\n",
       "    <tr>\n",
       "      <th>6</th>\n",
       "      <td>0</td>\n",
       "      <td>YLQPRTFLL</td>\n",
       "      <td>0.897234</td>\n",
       "    </tr>\n",
       "    <tr>\n",
       "      <th>7</th>\n",
       "      <td>0</td>\n",
       "      <td>SLFNTVATLY</td>\n",
       "      <td>0.829932</td>\n",
       "    </tr>\n",
       "    <tr>\n",
       "      <th>11</th>\n",
       "      <td>0</td>\n",
       "      <td>GLCTLVAML</td>\n",
       "      <td>0.922700</td>\n",
       "    </tr>\n",
       "    <tr>\n",
       "      <th>15</th>\n",
       "      <td>0</td>\n",
       "      <td>FLASKIGRLV</td>\n",
       "      <td>0.739583</td>\n",
       "    </tr>\n",
       "    <tr>\n",
       "      <th>22</th>\n",
       "      <td>0</td>\n",
       "      <td>FLYALALLL</td>\n",
       "      <td>0.986979</td>\n",
       "    </tr>\n",
       "    <tr>\n",
       "      <th>36</th>\n",
       "      <td>0</td>\n",
       "      <td>LLFGYPVYV</td>\n",
       "      <td>0.500000</td>\n",
       "    </tr>\n",
       "    <tr>\n",
       "      <th>37</th>\n",
       "      <td>0</td>\n",
       "      <td>ALSKGVHFV</td>\n",
       "      <td>0.796296</td>\n",
       "    </tr>\n",
       "    <tr>\n",
       "      <th>52</th>\n",
       "      <td>0</td>\n",
       "      <td>LLDFVRFMGV</td>\n",
       "      <td>0.843750</td>\n",
       "    </tr>\n",
       "    <tr>\n",
       "      <th>58</th>\n",
       "      <td>0</td>\n",
       "      <td>RLGPVQNEV</td>\n",
       "      <td>1.000000</td>\n",
       "    </tr>\n",
       "    <tr>\n",
       "      <th>63</th>\n",
       "      <td>0</td>\n",
       "      <td>RLPGVLPRA</td>\n",
       "      <td>0.740741</td>\n",
       "    </tr>\n",
       "    <tr>\n",
       "      <th>83</th>\n",
       "      <td>0</td>\n",
       "      <td>RTLNAWVKV</td>\n",
       "      <td>0.846939</td>\n",
       "    </tr>\n",
       "    <tr>\n",
       "      <th>125</th>\n",
       "      <td>0</td>\n",
       "      <td>KLSALGINAV</td>\n",
       "      <td>1.000000</td>\n",
       "    </tr>\n",
       "  </tbody>\n",
       "</table>\n",
       "</div>"
      ],
      "text/plain": [
       "     index     peptide       auc\n",
       "0        0   GILGFVFTL  0.946921\n",
       "1        0   LLWNGPMAV  0.881369\n",
       "2        0   CINGVCWTV  0.848989\n",
       "3        0  ELAGIGILTV  0.880368\n",
       "5        0   NLVPMVATV  0.913805\n",
       "6        0   YLQPRTFLL  0.897234\n",
       "7        0  SLFNTVATLY  0.829932\n",
       "11       0   GLCTLVAML  0.922700\n",
       "15       0  FLASKIGRLV  0.739583\n",
       "22       0   FLYALALLL  0.986979\n",
       "36       0   LLFGYPVYV  0.500000\n",
       "37       0   ALSKGVHFV  0.796296\n",
       "52       0  LLDFVRFMGV  0.843750\n",
       "58       0   RLGPVQNEV  1.000000\n",
       "63       0   RLPGVLPRA  0.740741\n",
       "83       0   RTLNAWVKV  0.846939\n",
       "125      0  KLSALGINAV  1.000000"
      ]
     },
     "execution_count": 43,
     "metadata": {},
     "output_type": "execute_result"
    }
   ],
   "source": [
    "selected_output"
   ]
  },
  {
   "cell_type": "code",
   "execution_count": 53,
   "metadata": {},
   "outputs": [],
   "source": [
    "selected_peptides = np.flip(np.array(selected_output[\"peptide\"]))\n",
    "selected_aucs = np.flip(np.array(selected_output[\"auc\"]))"
   ]
  },
  {
   "cell_type": "code",
   "execution_count": 76,
   "metadata": {},
   "outputs": [
    {
     "data": {
      "text/plain": [
       "(array([0. , 0.2, 0.4, 0.6, 0.8, 1. ]),\n",
       " [Text(0.0, 0, '0.0'),\n",
       "  Text(0.2, 0, '0.2'),\n",
       "  Text(0.4, 0, '0.4'),\n",
       "  Text(0.6000000000000001, 0, '0.6'),\n",
       "  Text(0.8, 0, '0.8'),\n",
       "  Text(1.0, 0, '1.0')])"
      ]
     },
     "execution_count": 76,
     "metadata": {},
     "output_type": "execute_result"
    },
    {
     "data": {
      "image/png": "[encoded data removed]",
      "text/plain": [
       "<Figure size 640x480 with 1 Axes>"
      ]
     },
     "metadata": {},
     "output_type": "display_data"
    }
   ],
   "source": [
    "plt.xticks(rotation=45, ha=\"right\")\n",
    "#plt.scatter(selected_peptides, selected_aucs)"
   ]
  },
  {
   "cell_type": "code",
   "execution_count": 72,
   "metadata": {},
   "outputs": [
    {
     "data": {
      "text/plain": [
       "0.9138052983539094"
      ]
     },
     "execution_count": 72,
     "metadata": {},
     "output_type": "execute_result"
    }
   ],
   "source": [
    "selected_output[selected_output[\"peptide\"] == \"NLVPMVATV\"][\"auc\"].values[0]"
   ]
  },
  {
   "cell_type": "code",
   "execution_count": 80,
   "metadata": {},
   "outputs": [
    {
     "data": {
      "image/png": "[encoded data removed]",
      "text/plain": [
       "<Figure size 640x480 with 1 Axes>"
      ]
     },
     "metadata": {},
     "output_type": "display_data"
    }
   ],
   "source": [
    "plt.xticks(rotation=45, ha=\"right\")\n",
    "\n",
    "for epitope in epitopes:\n",
    "    #print(epitope)\n",
    "    a = selected_output[selected_output[\"peptide\"] == epitope]\n",
    "    b = a[\"auc\"]\n",
    "    #print(b)\n",
    "    c = b.values[0]\n",
    "    cur_auc = c\n",
    "    plt.scatter(epitope, cur_auc)"
   ]
  }
 ],
 "metadata": {
  "kernelspec": {
   "display_name": "Python 3",
   "language": "python",
   "name": "python3"
  },
  "language_info": {
   "codemirror_mode": {
    "name": "ipython",
    "version": 3
   },
   "file_extension": ".py",
   "mimetype": "text/x-python",
   "name": "python",
   "nbconvert_exporter": "python",
   "pygments_lexer": "ipython3",
   "version": "3.12.0"
  }
 },
 "nbformat": 4,
 "nbformat_minor": 2
}
