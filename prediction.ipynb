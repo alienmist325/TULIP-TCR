{
 "cells": [
  {
   "cell_type": "code",
   "execution_count": 1,
   "metadata": {},
   "outputs": [],
   "source": [
    "import pandas as pd\n",
    "\n",
    "output = pd.read_csv(\"output/output-20240114-181648.csv\")"
   ]
  },
  {
   "cell_type": "code",
   "execution_count": 2,
   "metadata": {},
   "outputs": [
    {
     "data": {
      "text/html": [
       "<div>\n",
       "<style scoped>\n",
       "    .dataframe tbody tr th:only-of-type {\n",
       "        vertical-align: middle;\n",
       "    }\n",
       "\n",
       "    .dataframe tbody tr th {\n",
       "        vertical-align: top;\n",
       "    }\n",
       "\n",
       "    .dataframe thead th {\n",
       "        text-align: right;\n",
       "    }\n",
       "</style>\n",
       "<table border=\"1\" class=\"dataframe\">\n",
       "  <thead>\n",
       "    <tr style=\"text-align: right;\">\n",
       "      <th></th>\n",
       "      <th>receptor_number</th>\n",
       "      <th>CDR3a</th>\n",
       "      <th>CDR3b</th>\n",
       "      <th>peptide</th>\n",
       "      <th>score</th>\n",
       "      <th>rank0</th>\n",
       "      <th>CAGASGNTGKLIF</th>\n",
       "      <th>CASSIRASYEQYF</th>\n",
       "      <th>GILGFVFTL</th>\n",
       "      <th>-0.0002981129218824208</th>\n",
       "      <th>2167</th>\n",
       "    </tr>\n",
       "  </thead>\n",
       "  <tbody>\n",
       "    <tr>\n",
       "      <th>0</th>\n",
       "      <td>1</td>\n",
       "      <td>CAGSGGGSQGNLIF</td>\n",
       "      <td>CASSIRSTDTQYF</td>\n",
       "      <td>GILGFVFTL</td>\n",
       "      <td>-0.000273</td>\n",
       "      <td>2178</td>\n",
       "      <td>NaN</td>\n",
       "      <td>NaN</td>\n",
       "      <td>NaN</td>\n",
       "      <td>NaN</td>\n",
       "      <td>NaN</td>\n",
       "    </tr>\n",
       "    <tr>\n",
       "      <th>1</th>\n",
       "      <td>2</td>\n",
       "      <td>CALDMGGGSQGNLIF</td>\n",
       "      <td>CASSIRAADTQYF</td>\n",
       "      <td>GILGFVFTL</td>\n",
       "      <td>-0.000089</td>\n",
       "      <td>2270</td>\n",
       "      <td>NaN</td>\n",
       "      <td>NaN</td>\n",
       "      <td>NaN</td>\n",
       "      <td>NaN</td>\n",
       "      <td>NaN</td>\n",
       "    </tr>\n",
       "    <tr>\n",
       "      <th>2</th>\n",
       "      <td>3</td>\n",
       "      <td>CAGGGSQGNLIF</td>\n",
       "      <td>CASSIRSSYEQYF</td>\n",
       "      <td>GILGFVFTL</td>\n",
       "      <td>-0.000869</td>\n",
       "      <td>2082</td>\n",
       "      <td>NaN</td>\n",
       "      <td>NaN</td>\n",
       "      <td>NaN</td>\n",
       "      <td>NaN</td>\n",
       "      <td>NaN</td>\n",
       "    </tr>\n",
       "    <tr>\n",
       "      <th>3</th>\n",
       "      <td>4</td>\n",
       "      <td>CALSGETSGSRLTF</td>\n",
       "      <td>CASGLVPGGLVYEQYF</td>\n",
       "      <td>GILGFVFTL</td>\n",
       "      <td>-0.194064</td>\n",
       "      <td>1899</td>\n",
       "      <td>NaN</td>\n",
       "      <td>NaN</td>\n",
       "      <td>NaN</td>\n",
       "      <td>NaN</td>\n",
       "      <td>NaN</td>\n",
       "    </tr>\n",
       "    <tr>\n",
       "      <th>4</th>\n",
       "      <td>5</td>\n",
       "      <td>CALDMGGGSQGNLIF</td>\n",
       "      <td>CASSARSTDTQYF</td>\n",
       "      <td>GILGFVFTL</td>\n",
       "      <td>-0.000095</td>\n",
       "      <td>2268</td>\n",
       "      <td>NaN</td>\n",
       "      <td>NaN</td>\n",
       "      <td>NaN</td>\n",
       "      <td>NaN</td>\n",
       "      <td>NaN</td>\n",
       "    </tr>\n",
       "    <tr>\n",
       "      <th>...</th>\n",
       "      <td>...</td>\n",
       "      <td>...</td>\n",
       "      <td>...</td>\n",
       "      <td>...</td>\n",
       "      <td>...</td>\n",
       "      <td>...</td>\n",
       "      <td>...</td>\n",
       "      <td>...</td>\n",
       "      <td>...</td>\n",
       "      <td>...</td>\n",
       "      <td>...</td>\n",
       "    </tr>\n",
       "    <tr>\n",
       "      <th>6140</th>\n",
       "      <td>2</td>\n",
       "      <td>CVVADSKLTF</td>\n",
       "      <td>CSVTGERGTDTQYF</td>\n",
       "      <td>YGFQPTNGV</td>\n",
       "      <td>-20.276680</td>\n",
       "      <td>2</td>\n",
       "      <td>NaN</td>\n",
       "      <td>NaN</td>\n",
       "      <td>NaN</td>\n",
       "      <td>NaN</td>\n",
       "      <td>NaN</td>\n",
       "    </tr>\n",
       "    <tr>\n",
       "      <th>6141</th>\n",
       "      <td>3</td>\n",
       "      <td>CLVPSEQAGTALIF</td>\n",
       "      <td>CSASSTHSNQPQHF</td>\n",
       "      <td>YGFQPTNGV</td>\n",
       "      <td>-20.333136</td>\n",
       "      <td>1</td>\n",
       "      <td>NaN</td>\n",
       "      <td>NaN</td>\n",
       "      <td>NaN</td>\n",
       "      <td>NaN</td>\n",
       "      <td>NaN</td>\n",
       "    </tr>\n",
       "    <tr>\n",
       "      <th>6142</th>\n",
       "      <td>4</td>\n",
       "      <td>CAESKRDGGATNKLIF</td>\n",
       "      <td>CASSPSREGYTF</td>\n",
       "      <td>YGFQPTNGV</td>\n",
       "      <td>-12.833920</td>\n",
       "      <td>5</td>\n",
       "      <td>NaN</td>\n",
       "      <td>NaN</td>\n",
       "      <td>NaN</td>\n",
       "      <td>NaN</td>\n",
       "      <td>NaN</td>\n",
       "    </tr>\n",
       "    <tr>\n",
       "      <th>6143</th>\n",
       "      <td>5</td>\n",
       "      <td>CAVDTNTDKLIF</td>\n",
       "      <td>CASSQGYEQYF</td>\n",
       "      <td>YGFQPTNGV</td>\n",
       "      <td>-14.809388</td>\n",
       "      <td>4</td>\n",
       "      <td>NaN</td>\n",
       "      <td>NaN</td>\n",
       "      <td>NaN</td>\n",
       "      <td>NaN</td>\n",
       "      <td>NaN</td>\n",
       "    </tr>\n",
       "    <tr>\n",
       "      <th>6144</th>\n",
       "      <td>6</td>\n",
       "      <td>CAGAGGGSQGNLIF</td>\n",
       "      <td>CASSMRSAGELFF</td>\n",
       "      <td>YGFQPTNGV</td>\n",
       "      <td>-22.070002</td>\n",
       "      <td>0</td>\n",
       "      <td>NaN</td>\n",
       "      <td>NaN</td>\n",
       "      <td>NaN</td>\n",
       "      <td>NaN</td>\n",
       "      <td>NaN</td>\n",
       "    </tr>\n",
       "  </tbody>\n",
       "</table>\n",
       "<p>6145 rows × 11 columns</p>\n",
       "</div>"
      ],
      "text/plain": [
       "      receptor_number             CDR3a             CDR3b    peptide  \\\n",
       "0                   1    CAGSGGGSQGNLIF     CASSIRSTDTQYF  GILGFVFTL   \n",
       "1                   2   CALDMGGGSQGNLIF     CASSIRAADTQYF  GILGFVFTL   \n",
       "2                   3      CAGGGSQGNLIF     CASSIRSSYEQYF  GILGFVFTL   \n",
       "3                   4    CALSGETSGSRLTF  CASGLVPGGLVYEQYF  GILGFVFTL   \n",
       "4                   5   CALDMGGGSQGNLIF     CASSARSTDTQYF  GILGFVFTL   \n",
       "...               ...               ...               ...        ...   \n",
       "6140                2        CVVADSKLTF    CSVTGERGTDTQYF  YGFQPTNGV   \n",
       "6141                3    CLVPSEQAGTALIF    CSASSTHSNQPQHF  YGFQPTNGV   \n",
       "6142                4  CAESKRDGGATNKLIF      CASSPSREGYTF  YGFQPTNGV   \n",
       "6143                5      CAVDTNTDKLIF       CASSQGYEQYF  YGFQPTNGV   \n",
       "6144                6    CAGAGGGSQGNLIF     CASSMRSAGELFF  YGFQPTNGV   \n",
       "\n",
       "          score  rank0  CAGASGNTGKLIF  CASSIRASYEQYF  GILGFVFTL  \\\n",
       "0     -0.000273   2178            NaN            NaN        NaN   \n",
       "1     -0.000089   2270            NaN            NaN        NaN   \n",
       "2     -0.000869   2082            NaN            NaN        NaN   \n",
       "3     -0.194064   1899            NaN            NaN        NaN   \n",
       "4     -0.000095   2268            NaN            NaN        NaN   \n",
       "...         ...    ...            ...            ...        ...   \n",
       "6140 -20.276680      2            NaN            NaN        NaN   \n",
       "6141 -20.333136      1            NaN            NaN        NaN   \n",
       "6142 -12.833920      5            NaN            NaN        NaN   \n",
       "6143 -14.809388      4            NaN            NaN        NaN   \n",
       "6144 -22.070002      0            NaN            NaN        NaN   \n",
       "\n",
       "      -0.0002981129218824208  2167  \n",
       "0                        NaN   NaN  \n",
       "1                        NaN   NaN  \n",
       "2                        NaN   NaN  \n",
       "3                        NaN   NaN  \n",
       "4                        NaN   NaN  \n",
       "...                      ...   ...  \n",
       "6140                     NaN   NaN  \n",
       "6141                     NaN   NaN  \n",
       "6142                     NaN   NaN  \n",
       "6143                     NaN   NaN  \n",
       "6144                     NaN   NaN  \n",
       "\n",
       "[6145 rows x 11 columns]"
      ]
     },
     "execution_count": 2,
     "metadata": {},
     "output_type": "execute_result"
    }
   ],
   "source": [
    "# Want set of lengths of each column\n",
    "output"
   ]
  },
  {
   "cell_type": "code",
   "execution_count": 3,
   "metadata": {},
   "outputs": [],
   "source": [
    "def get_lengths_of_sequence_type(column_name):\n",
    "    return output[column_name].apply(lambda x : len(x)).drop_duplicates()"
   ]
  },
  {
   "cell_type": "code",
   "execution_count": 4,
   "metadata": {},
   "outputs": [],
   "source": [
    "def get_character_set(column_name):\n",
    "    character_dict = {}\n",
    "\n",
    "    output[column_name].apply(lambda x : add_chars_to_dict(x, character_dict)).drop_duplicates()\n",
    "\n",
    "    return character_dict\n",
    "\n",
    "def add_chars_to_dict(string, dict):\n",
    "    for c in string:\n",
    "        if c in dict.keys():\n",
    "            dict[c] += 1\n",
    "        else:\n",
    "            dict[c] = 1 "
   ]
  },
  {
   "cell_type": "code",
   "execution_count": 5,
   "metadata": {},
   "outputs": [
    {
     "data": {
      "text/plain": [
       "['A',\n",
       " 'C',\n",
       " 'D',\n",
       " 'E',\n",
       " 'F',\n",
       " 'G',\n",
       " 'H',\n",
       " 'I',\n",
       " 'K',\n",
       " 'L',\n",
       " 'M',\n",
       " 'N',\n",
       " 'P',\n",
       " 'Q',\n",
       " 'R',\n",
       " 'S',\n",
       " 'T',\n",
       " 'V',\n",
       " 'W',\n",
       " 'Y']"
      ]
     },
     "execution_count": 5,
     "metadata": {},
     "output_type": "execute_result"
    }
   ],
   "source": [
    "charset = list(get_character_set(\"peptide\").keys())\n",
    "charset.sort()\n",
    "charset"
   ]
  },
  {
   "cell_type": "markdown",
   "metadata": {},
   "source": [
    "The characters are everything bar $B, J, O, U, X, Z$, which agrees with online!"
   ]
  },
  {
   "cell_type": "code",
   "execution_count": 6,
   "metadata": {},
   "outputs": [
    {
     "name": "stdout",
     "output_type": "stream",
     "text": [
      "0        9\n",
      "2820    10\n",
      "Name: peptide, dtype: int64\n",
      "0       14\n",
      "1       15\n",
      "2       12\n",
      "5       16\n",
      "6       17\n",
      "12      13\n",
      "15      11\n",
      "56      18\n",
      "62      19\n",
      "63       9\n",
      "66      10\n",
      "323      8\n",
      "1130    20\n",
      "Name: CDR3a, dtype: int64\n",
      "0      13\n",
      "3      16\n",
      "16     15\n",
      "21     14\n",
      "22     18\n",
      "41     12\n",
      "66     17\n",
      "75     11\n",
      "159    10\n",
      "449    19\n",
      "715     8\n",
      "860    20\n",
      "Name: CDR3b, dtype: int64\n"
     ]
    }
   ],
   "source": [
    "types = [\"peptide\", \"CDR3a\", \"CDR3b\"]\n",
    "for type in types:\n",
    "    print(get_lengths_of_sequence_type(type))"
   ]
  },
  {
   "cell_type": "markdown",
   "metadata": {},
   "source": [
    "So then:\n",
    "\n",
    "peptide has length $9< l < 10$\n",
    "\n",
    "CDR3a has length $9< l < 20$\n",
    "\n",
    "CDR3b has length $8< l < 20$"
   ]
  },
  {
   "cell_type": "markdown",
   "metadata": {},
   "source": [
    "Plotting the distribution of the scores"
   ]
  },
  {
   "cell_type": "code",
   "execution_count": 10,
   "metadata": {},
   "outputs": [
    {
     "data": {
      "text/plain": [
       "(array([   4.,    6.,   20.,   36.,   61.,   62.,  150.,  817., 2257.,\n",
       "        2732.]),\n",
       " array([-7.90280609e+01, -7.11252565e+01, -6.32224522e+01, -5.53196478e+01,\n",
       "        -4.74168434e+01, -3.95140390e+01, -3.16112347e+01, -2.37084303e+01,\n",
       "        -1.58056259e+01, -7.90282154e+00, -1.71660649e-05]),\n",
       " <BarContainer object of 10 artists>)"
      ]
     },
     "execution_count": 10,
     "metadata": {},
     "output_type": "execute_result"
    },
    {
     "data": {
      "image/png": "[encoded data removed]",
      "text/plain": [
       "<Figure size 640x480 with 1 Axes>"
      ]
     },
     "metadata": {},
     "output_type": "display_data"
    }
   ],
   "source": [
    "import matplotlib.pyplot as plt\n",
    "scores = output[\"score\"]\n",
    "plt.hist(scores)"
   ]
  },
  {
   "cell_type": "code",
   "execution_count": 11,
   "metadata": {},
   "outputs": [
    {
     "name": "stdout",
     "output_type": "stream",
     "text": [
      "-10.26567156092795\n",
      "9.140774104467837\n"
     ]
    }
   ],
   "source": [
    "import numpy as np\n",
    "print(np.mean(scores))\n",
    "print(np.sqrt(np.var(scores)))"
   ]
  },
  {
   "cell_type": "markdown",
   "metadata": {},
   "source": [
    "(Something like a gamma distribution, or similar?)"
   ]
  }
 ],
 "metadata": {
  "kernelspec": {
   "display_name": "Python 3",
   "language": "python",
   "name": "python3"
  },
  "language_info": {
   "codemirror_mode": {
    "name": "ipython",
    "version": 3
   },
   "file_extension": ".py",
   "mimetype": "text/x-python",
   "name": "python",
   "nbconvert_exporter": "python",
   "pygments_lexer": "ipython3",
   "version": "3.12.0"
  }
 },
 "nbformat": 4,
 "nbformat_minor": 2
}
